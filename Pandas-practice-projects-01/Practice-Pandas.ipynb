{
 "cells": [
  {
   "cell_type": "markdown",
   "metadata": {
    "id": "qciby0I-CcZM"
   },
   "source": [
    "# **Country last checkpoint**"
   ]
  },
  {
   "cell_type": "markdown",
   "metadata": {
    "id": "cEmmCtajDJrr"
   },
   "source": [
    "### **Questions:**\n",
    "\n",
    "    1. Which country has the highest populetion\n",
    "    2. What is the capital of the country with higest populetion\n",
    "    3. Which country has the last populetion\n",
    "    4. What is the capital of the country with last populetion\n",
    "    5. Give me top 5 countries with highest democratic score\n",
    "    6. How many total region are there\n",
    "    7. How many countries lie in Eastern Europe region\n",
    "    8. Who is the political leader of the 2nd highest populeted country\n",
    "    9. How many countries are there whoes plitical leaders are unknown\n",
    "    10. How many country have Republic in their full name\n",
    "    11. Which country in african region has highest populetion\n"
   ]
  },
  {
   "cell_type": "markdown",
   "metadata": {
    "id": "ikLCMumYGSqc"
   },
   "source": [
    "### **Answers**"
   ]
  },
  {
   "cell_type": "code",
   "execution_count": 1,
   "metadata": {
    "executionInfo": {
     "elapsed": 13,
     "status": "ok",
     "timestamp": 1757038991222,
     "user": {
      "displayName": "Mr Rafi",
      "userId": "12240699368436253279"
     },
     "user_tz": -360
    },
    "id": "LQ2LoHlkBEJ3"
   },
   "outputs": [],
   "source": [
    "import pandas as pd\n",
    "import numpy as np"
   ]
  },
  {
   "cell_type": "code",
   "execution_count": 2,
   "metadata": {
    "colab": {
     "base_uri": "https://localhost:8080/",
     "height": 279
    },
    "executionInfo": {
     "elapsed": 98,
     "status": "ok",
     "timestamp": 1757038991322,
     "user": {
      "displayName": "Mr Rafi",
      "userId": "12240699368436253279"
     },
     "user_tz": -360
    },
    "id": "u4AJB85fCnFs",
    "outputId": "6ae7a98e-4b7b-4c0a-d297-411e7f1e3e3c"
   },
   "outputs": [
    {
     "data": {
      "text/html": [
       "<div>\n",
       "<style scoped>\n",
       "    .dataframe tbody tr th:only-of-type {\n",
       "        vertical-align: middle;\n",
       "    }\n",
       "\n",
       "    .dataframe tbody tr th {\n",
       "        vertical-align: top;\n",
       "    }\n",
       "\n",
       "    .dataframe thead th {\n",
       "        text-align: right;\n",
       "    }\n",
       "</style>\n",
       "<table border=\"1\" class=\"dataframe\">\n",
       "  <thead>\n",
       "    <tr style=\"text-align: right;\">\n",
       "      <th></th>\n",
       "      <th>country</th>\n",
       "      <th>country_long</th>\n",
       "      <th>currency</th>\n",
       "      <th>capital_city</th>\n",
       "      <th>region</th>\n",
       "      <th>continent</th>\n",
       "      <th>demonym</th>\n",
       "      <th>latitude</th>\n",
       "      <th>longitude</th>\n",
       "      <th>agricultural_land</th>\n",
       "      <th>...</th>\n",
       "      <th>population</th>\n",
       "      <th>women_parliament_seats_pct</th>\n",
       "      <th>rural_population</th>\n",
       "      <th>urban_population</th>\n",
       "      <th>press</th>\n",
       "      <th>democracy_score</th>\n",
       "      <th>democracy_type</th>\n",
       "      <th>median_age</th>\n",
       "      <th>political_leader</th>\n",
       "      <th>title</th>\n",
       "    </tr>\n",
       "  </thead>\n",
       "  <tbody>\n",
       "    <tr>\n",
       "      <th>0</th>\n",
       "      <td>Afghanistan</td>\n",
       "      <td>Islamic State of Afghanistan</td>\n",
       "      <td>Afghan afghani</td>\n",
       "      <td>Kabul</td>\n",
       "      <td>Southern Asia</td>\n",
       "      <td>Asia</td>\n",
       "      <td>Afghan</td>\n",
       "      <td>33.0</td>\n",
       "      <td>65.0</td>\n",
       "      <td>383560.0</td>\n",
       "      <td>...</td>\n",
       "      <td>41128771</td>\n",
       "      <td>27.01610</td>\n",
       "      <td>30181937</td>\n",
       "      <td>10946834</td>\n",
       "      <td>2.14</td>\n",
       "      <td>2.97</td>\n",
       "      <td>Authoritarian</td>\n",
       "      <td>12.9</td>\n",
       "      <td>Ashraf Ghani</td>\n",
       "      <td>President</td>\n",
       "    </tr>\n",
       "    <tr>\n",
       "      <th>1</th>\n",
       "      <td>Albania</td>\n",
       "      <td>Republic of Albania</td>\n",
       "      <td>Albanian lek</td>\n",
       "      <td>Tirana</td>\n",
       "      <td>Southern Europe</td>\n",
       "      <td>Europe</td>\n",
       "      <td>Albanian</td>\n",
       "      <td>41.0</td>\n",
       "      <td>20.0</td>\n",
       "      <td>11655.5</td>\n",
       "      <td>...</td>\n",
       "      <td>2775634</td>\n",
       "      <td>35.71430</td>\n",
       "      <td>1004807</td>\n",
       "      <td>1770827</td>\n",
       "      <td>2.62</td>\n",
       "      <td>5.98</td>\n",
       "      <td>Hybrid regime</td>\n",
       "      <td>33.7</td>\n",
       "      <td>Edi Rama</td>\n",
       "      <td>Prime Minister</td>\n",
       "    </tr>\n",
       "    <tr>\n",
       "      <th>2</th>\n",
       "      <td>Algeria</td>\n",
       "      <td>People's Democratic Republic of Algeria</td>\n",
       "      <td>Algerian dinar</td>\n",
       "      <td>Algiers</td>\n",
       "      <td>Northern Africa</td>\n",
       "      <td>Africa</td>\n",
       "      <td>Algerian</td>\n",
       "      <td>28.0</td>\n",
       "      <td>3.0</td>\n",
       "      <td>413588.0</td>\n",
       "      <td>...</td>\n",
       "      <td>44903225</td>\n",
       "      <td>8.10811</td>\n",
       "      <td>11328186</td>\n",
       "      <td>33575039</td>\n",
       "      <td>1.71</td>\n",
       "      <td>3.50</td>\n",
       "      <td>Authoritarian</td>\n",
       "      <td>24.0</td>\n",
       "      <td>Abdelmadjid Tebboune</td>\n",
       "      <td>President</td>\n",
       "    </tr>\n",
       "  </tbody>\n",
       "</table>\n",
       "<p>3 rows × 64 columns</p>\n",
       "</div>"
      ],
      "text/plain": [
       "       country                             country_long        currency  \\\n",
       "0  Afghanistan             Islamic State of Afghanistan  Afghan afghani   \n",
       "1      Albania                      Republic of Albania    Albanian lek   \n",
       "2      Algeria  People's Democratic Republic of Algeria  Algerian dinar   \n",
       "\n",
       "  capital_city           region continent   demonym  latitude  longitude  \\\n",
       "0        Kabul    Southern Asia      Asia    Afghan      33.0       65.0   \n",
       "1       Tirana  Southern Europe    Europe  Albanian      41.0       20.0   \n",
       "2      Algiers  Northern Africa    Africa  Algerian      28.0        3.0   \n",
       "\n",
       "   agricultural_land  ...  population  women_parliament_seats_pct  \\\n",
       "0           383560.0  ...    41128771                    27.01610   \n",
       "1            11655.5  ...     2775634                    35.71430   \n",
       "2           413588.0  ...    44903225                     8.10811   \n",
       "\n",
       "   rural_population  urban_population  press  democracy_score  democracy_type  \\\n",
       "0          30181937          10946834   2.14             2.97   Authoritarian   \n",
       "1           1004807           1770827   2.62             5.98   Hybrid regime   \n",
       "2          11328186          33575039   1.71             3.50   Authoritarian   \n",
       "\n",
       "   median_age      political_leader           title  \n",
       "0        12.9          Ashraf Ghani       President  \n",
       "1        33.7              Edi Rama  Prime Minister  \n",
       "2        24.0  Abdelmadjid Tebboune       President  \n",
       "\n",
       "[3 rows x 64 columns]"
      ]
     },
     "execution_count": 2,
     "metadata": {},
     "output_type": "execute_result"
    }
   ],
   "source": [
    "df = pd.read_csv(\"Countries.csv\")\n",
    "df.head(3)"
   ]
  },
  {
   "cell_type": "code",
   "execution_count": 3,
   "metadata": {
    "colab": {
     "base_uri": "https://localhost:8080/"
    },
    "executionInfo": {
     "elapsed": 10,
     "status": "ok",
     "timestamp": 1757038991323,
     "user": {
      "displayName": "Mr Rafi",
      "userId": "12240699368436253279"
     },
     "user_tz": -360
    },
    "id": "wXwRnjttCtKj",
    "outputId": "7ba784dc-41ce-45f3-cff7-46705194a0ca"
   },
   "outputs": [
    {
     "data": {
      "text/plain": [
       "(194, 64)"
      ]
     },
     "execution_count": 3,
     "metadata": {},
     "output_type": "execute_result"
    }
   ],
   "source": [
    "df.shape"
   ]
  },
  {
   "cell_type": "code",
   "execution_count": 4,
   "metadata": {
    "colab": {
     "base_uri": "https://localhost:8080/",
     "height": 349
    },
    "executionInfo": {
     "elapsed": 88,
     "status": "ok",
     "timestamp": 1757038991408,
     "user": {
      "displayName": "Mr Rafi",
      "userId": "12240699368436253279"
     },
     "user_tz": -360
    },
    "id": "yVRAIlffG_n_",
    "outputId": "5e225782-69f7-4e1e-8eab-d2162d67bc8d"
   },
   "outputs": [
    {
     "data": {
      "text/html": [
       "<div>\n",
       "<style scoped>\n",
       "    .dataframe tbody tr th:only-of-type {\n",
       "        vertical-align: middle;\n",
       "    }\n",
       "\n",
       "    .dataframe tbody tr th {\n",
       "        vertical-align: top;\n",
       "    }\n",
       "\n",
       "    .dataframe thead th {\n",
       "        text-align: right;\n",
       "    }\n",
       "</style>\n",
       "<table border=\"1\" class=\"dataframe\">\n",
       "  <thead>\n",
       "    <tr style=\"text-align: right;\">\n",
       "      <th></th>\n",
       "      <th>latitude</th>\n",
       "      <th>longitude</th>\n",
       "      <th>agricultural_land</th>\n",
       "      <th>forest_area</th>\n",
       "      <th>land_area</th>\n",
       "      <th>rural_land</th>\n",
       "      <th>urban_land</th>\n",
       "      <th>central_government_debt_pct_gdp</th>\n",
       "      <th>expense_pct_gdp</th>\n",
       "      <th>gdp</th>\n",
       "      <th>...</th>\n",
       "      <th>net_migration</th>\n",
       "      <th>population_female</th>\n",
       "      <th>population_male</th>\n",
       "      <th>population</th>\n",
       "      <th>women_parliament_seats_pct</th>\n",
       "      <th>rural_population</th>\n",
       "      <th>urban_population</th>\n",
       "      <th>press</th>\n",
       "      <th>democracy_score</th>\n",
       "      <th>median_age</th>\n",
       "    </tr>\n",
       "  </thead>\n",
       "  <tbody>\n",
       "    <tr>\n",
       "      <th>count</th>\n",
       "      <td>194.000000</td>\n",
       "      <td>194.000000</td>\n",
       "      <td>1.930000e+02</td>\n",
       "      <td>1.940000e+02</td>\n",
       "      <td>1.940000e+02</td>\n",
       "      <td>1.940000e+02</td>\n",
       "      <td>194.000000</td>\n",
       "      <td>120.000000</td>\n",
       "      <td>156.000000</td>\n",
       "      <td>1.930000e+02</td>\n",
       "      <td>...</td>\n",
       "      <td>194.000000</td>\n",
       "      <td>1.940000e+02</td>\n",
       "      <td>1.940000e+02</td>\n",
       "      <td>1.940000e+02</td>\n",
       "      <td>193.000000</td>\n",
       "      <td>1.940000e+02</td>\n",
       "      <td>1.940000e+02</td>\n",
       "      <td>194.000000</td>\n",
       "      <td>194.000000</td>\n",
       "      <td>194.000000</td>\n",
       "    </tr>\n",
       "    <tr>\n",
       "      <th>mean</th>\n",
       "      <td>18.975601</td>\n",
       "      <td>22.027491</td>\n",
       "      <td>2.454551e+05</td>\n",
       "      <td>2.086784e+05</td>\n",
       "      <td>6.675087e+05</td>\n",
       "      <td>6.563711e+05</td>\n",
       "      <td>9777.116531</td>\n",
       "      <td>66.759366</td>\n",
       "      <td>30.051403</td>\n",
       "      <td>5.144851e+11</td>\n",
       "      <td>...</td>\n",
       "      <td>-51.407216</td>\n",
       "      <td>2.028316e+07</td>\n",
       "      <td>2.050572e+07</td>\n",
       "      <td>4.078888e+07</td>\n",
       "      <td>25.022994</td>\n",
       "      <td>1.763322e+07</td>\n",
       "      <td>2.315566e+07</td>\n",
       "      <td>2.539330</td>\n",
       "      <td>4.644536</td>\n",
       "      <td>25.661856</td>\n",
       "    </tr>\n",
       "    <tr>\n",
       "      <th>std</th>\n",
       "      <td>23.876225</td>\n",
       "      <td>66.396389</td>\n",
       "      <td>6.356268e+05</td>\n",
       "      <td>7.824926e+05</td>\n",
       "      <td>1.837107e+06</td>\n",
       "      <td>1.811169e+06</td>\n",
       "      <td>42301.458421</td>\n",
       "      <td>71.806247</td>\n",
       "      <td>26.740880</td>\n",
       "      <td>2.307148e+12</td>\n",
       "      <td>...</td>\n",
       "      <td>94525.968598</td>\n",
       "      <td>7.258941e+07</td>\n",
       "      <td>7.607158e+07</td>\n",
       "      <td>1.486470e+08</td>\n",
       "      <td>12.671044</td>\n",
       "      <td>7.664187e+07</td>\n",
       "      <td>7.940393e+07</td>\n",
       "      <td>1.800128</td>\n",
       "      <td>2.818297</td>\n",
       "      <td>9.415569</td>\n",
       "    </tr>\n",
       "    <tr>\n",
       "      <th>min</th>\n",
       "      <td>-41.000000</td>\n",
       "      <td>-175.000000</td>\n",
       "      <td>4.000000e+00</td>\n",
       "      <td>0.000000e+00</td>\n",
       "      <td>2.027000e+00</td>\n",
       "      <td>3.495450e-02</td>\n",
       "      <td>0.000000</td>\n",
       "      <td>0.000000</td>\n",
       "      <td>0.000267</td>\n",
       "      <td>6.034940e+07</td>\n",
       "      <td>...</td>\n",
       "      <td>-525116.000000</td>\n",
       "      <td>5.513000e+03</td>\n",
       "      <td>5.799000e+03</td>\n",
       "      <td>1.131200e+04</td>\n",
       "      <td>0.000000</td>\n",
       "      <td>0.000000e+00</td>\n",
       "      <td>5.717000e+03</td>\n",
       "      <td>0.000000</td>\n",
       "      <td>0.000000</td>\n",
       "      <td>10.500000</td>\n",
       "    </tr>\n",
       "    <tr>\n",
       "      <th>25%</th>\n",
       "      <td>4.000000</td>\n",
       "      <td>-5.000000</td>\n",
       "      <td>6.464000e+03</td>\n",
       "      <td>3.331775e+03</td>\n",
       "      <td>2.355250e+04</td>\n",
       "      <td>2.186562e+04</td>\n",
       "      <td>359.618250</td>\n",
       "      <td>31.951300</td>\n",
       "      <td>18.371875</td>\n",
       "      <td>1.181390e+10</td>\n",
       "      <td>...</td>\n",
       "      <td>-12242.250000</td>\n",
       "      <td>1.036218e+06</td>\n",
       "      <td>1.044902e+06</td>\n",
       "      <td>2.106358e+06</td>\n",
       "      <td>15.384600</td>\n",
       "      <td>5.896640e+05</td>\n",
       "      <td>1.222244e+06</td>\n",
       "      <td>1.525000</td>\n",
       "      <td>2.722500</td>\n",
       "      <td>16.950000</td>\n",
       "    </tr>\n",
       "    <tr>\n",
       "      <th>50%</th>\n",
       "      <td>16.583333</td>\n",
       "      <td>21.500000</td>\n",
       "      <td>3.872780e+04</td>\n",
       "      <td>2.528925e+04</td>\n",
       "      <td>1.203750e+05</td>\n",
       "      <td>1.159945e+05</td>\n",
       "      <td>1645.170000</td>\n",
       "      <td>55.426850</td>\n",
       "      <td>27.337750</td>\n",
       "      <td>4.115390e+10</td>\n",
       "      <td>...</td>\n",
       "      <td>-970.000000</td>\n",
       "      <td>4.502713e+06</td>\n",
       "      <td>4.450049e+06</td>\n",
       "      <td>9.125614e+06</td>\n",
       "      <td>25.252500</td>\n",
       "      <td>2.512382e+06</td>\n",
       "      <td>4.508837e+06</td>\n",
       "      <td>2.400000</td>\n",
       "      <td>5.050000</td>\n",
       "      <td>24.950000</td>\n",
       "    </tr>\n",
       "    <tr>\n",
       "      <th>75%</th>\n",
       "      <td>40.000000</td>\n",
       "      <td>50.162500</td>\n",
       "      <td>2.150000e+05</td>\n",
       "      <td>1.236735e+05</td>\n",
       "      <td>5.237000e+05</td>\n",
       "      <td>4.911505e+05</td>\n",
       "      <td>4054.022500</td>\n",
       "      <td>79.539300</td>\n",
       "      <td>35.083500</td>\n",
       "      <td>2.519450e+11</td>\n",
       "      <td>...</td>\n",
       "      <td>2904.250000</td>\n",
       "      <td>1.526606e+07</td>\n",
       "      <td>1.478872e+07</td>\n",
       "      <td>3.031361e+07</td>\n",
       "      <td>33.636400</td>\n",
       "      <td>1.133354e+07</td>\n",
       "      <td>1.621355e+07</td>\n",
       "      <td>2.925000</td>\n",
       "      <td>6.967500</td>\n",
       "      <td>34.050000</td>\n",
       "    </tr>\n",
       "    <tr>\n",
       "      <th>max</th>\n",
       "      <td>65.000000</td>\n",
       "      <td>178.000000</td>\n",
       "      <td>5.285080e+06</td>\n",
       "      <td>8.153120e+06</td>\n",
       "      <td>1.637690e+07</td>\n",
       "      <td>1.622420e+07</td>\n",
       "      <td>522345.000000</td>\n",
       "      <td>687.994000</td>\n",
       "      <td>310.443000</td>\n",
       "      <td>2.546270e+13</td>\n",
       "      <td>...</td>\n",
       "      <td>561580.000000</td>\n",
       "      <td>6.915285e+08</td>\n",
       "      <td>7.311805e+08</td>\n",
       "      <td>1.417173e+09</td>\n",
       "      <td>61.250000</td>\n",
       "      <td>9.088048e+08</td>\n",
       "      <td>8.975784e+08</td>\n",
       "      <td>10.000000</td>\n",
       "      <td>9.870000</td>\n",
       "      <td>50.500000</td>\n",
       "    </tr>\n",
       "  </tbody>\n",
       "</table>\n",
       "<p>8 rows × 54 columns</p>\n",
       "</div>"
      ],
      "text/plain": [
       "         latitude   longitude  agricultural_land   forest_area     land_area  \\\n",
       "count  194.000000  194.000000       1.930000e+02  1.940000e+02  1.940000e+02   \n",
       "mean    18.975601   22.027491       2.454551e+05  2.086784e+05  6.675087e+05   \n",
       "std     23.876225   66.396389       6.356268e+05  7.824926e+05  1.837107e+06   \n",
       "min    -41.000000 -175.000000       4.000000e+00  0.000000e+00  2.027000e+00   \n",
       "25%      4.000000   -5.000000       6.464000e+03  3.331775e+03  2.355250e+04   \n",
       "50%     16.583333   21.500000       3.872780e+04  2.528925e+04  1.203750e+05   \n",
       "75%     40.000000   50.162500       2.150000e+05  1.236735e+05  5.237000e+05   \n",
       "max     65.000000  178.000000       5.285080e+06  8.153120e+06  1.637690e+07   \n",
       "\n",
       "         rural_land     urban_land  central_government_debt_pct_gdp  \\\n",
       "count  1.940000e+02     194.000000                       120.000000   \n",
       "mean   6.563711e+05    9777.116531                        66.759366   \n",
       "std    1.811169e+06   42301.458421                        71.806247   \n",
       "min    3.495450e-02       0.000000                         0.000000   \n",
       "25%    2.186562e+04     359.618250                        31.951300   \n",
       "50%    1.159945e+05    1645.170000                        55.426850   \n",
       "75%    4.911505e+05    4054.022500                        79.539300   \n",
       "max    1.622420e+07  522345.000000                       687.994000   \n",
       "\n",
       "       expense_pct_gdp           gdp  ...  net_migration  population_female  \\\n",
       "count       156.000000  1.930000e+02  ...     194.000000       1.940000e+02   \n",
       "mean         30.051403  5.144851e+11  ...     -51.407216       2.028316e+07   \n",
       "std          26.740880  2.307148e+12  ...   94525.968598       7.258941e+07   \n",
       "min           0.000267  6.034940e+07  ... -525116.000000       5.513000e+03   \n",
       "25%          18.371875  1.181390e+10  ...  -12242.250000       1.036218e+06   \n",
       "50%          27.337750  4.115390e+10  ...    -970.000000       4.502713e+06   \n",
       "75%          35.083500  2.519450e+11  ...    2904.250000       1.526606e+07   \n",
       "max         310.443000  2.546270e+13  ...  561580.000000       6.915285e+08   \n",
       "\n",
       "       population_male    population  women_parliament_seats_pct  \\\n",
       "count     1.940000e+02  1.940000e+02                  193.000000   \n",
       "mean      2.050572e+07  4.078888e+07                   25.022994   \n",
       "std       7.607158e+07  1.486470e+08                   12.671044   \n",
       "min       5.799000e+03  1.131200e+04                    0.000000   \n",
       "25%       1.044902e+06  2.106358e+06                   15.384600   \n",
       "50%       4.450049e+06  9.125614e+06                   25.252500   \n",
       "75%       1.478872e+07  3.031361e+07                   33.636400   \n",
       "max       7.311805e+08  1.417173e+09                   61.250000   \n",
       "\n",
       "       rural_population  urban_population       press  democracy_score  \\\n",
       "count      1.940000e+02      1.940000e+02  194.000000       194.000000   \n",
       "mean       1.763322e+07      2.315566e+07    2.539330         4.644536   \n",
       "std        7.664187e+07      7.940393e+07    1.800128         2.818297   \n",
       "min        0.000000e+00      5.717000e+03    0.000000         0.000000   \n",
       "25%        5.896640e+05      1.222244e+06    1.525000         2.722500   \n",
       "50%        2.512382e+06      4.508837e+06    2.400000         5.050000   \n",
       "75%        1.133354e+07      1.621355e+07    2.925000         6.967500   \n",
       "max        9.088048e+08      8.975784e+08   10.000000         9.870000   \n",
       "\n",
       "       median_age  \n",
       "count  194.000000  \n",
       "mean    25.661856  \n",
       "std      9.415569  \n",
       "min     10.500000  \n",
       "25%     16.950000  \n",
       "50%     24.950000  \n",
       "75%     34.050000  \n",
       "max     50.500000  \n",
       "\n",
       "[8 rows x 54 columns]"
      ]
     },
     "execution_count": 4,
     "metadata": {},
     "output_type": "execute_result"
    }
   ],
   "source": [
    "df.describe()"
   ]
  },
  {
   "cell_type": "markdown",
   "metadata": {
    "id": "zn9nj-FrHukU"
   },
   "source": [
    "##### **1. Which country has the highest populetion**"
   ]
  },
  {
   "cell_type": "code",
   "execution_count": 5,
   "metadata": {
    "colab": {
     "base_uri": "https://localhost:8080/"
    },
    "executionInfo": {
     "elapsed": 11,
     "status": "ok",
     "timestamp": 1757038991421,
     "user": {
      "displayName": "Mr Rafi",
      "userId": "12240699368436253279"
     },
     "user_tz": -360
    },
    "id": "ZLhZneW3H1ps",
    "outputId": "f7bd4266-bcd2-459b-c95d-4cdf2855ba63"
   },
   "outputs": [
    {
     "name": "stdout",
     "output_type": "stream",
     "text": [
      "Highest populetion: 1417173173\n",
      "\n",
      "75    India\n",
      "Name: country, dtype: object\n"
     ]
    }
   ],
   "source": [
    "print(f\"Highest populetion: { df[\"population\"].max() }\\n\")\n",
    "\n",
    "find_country = df[df[\"population\"] == df[\"population\"].max()][\"country\"]\n",
    "print(find_country)"
   ]
  },
  {
   "cell_type": "markdown",
   "metadata": {
    "id": "Mic5I2zOJotN"
   },
   "source": [
    "##### **2. What is the capital of the country with higest populetion**"
   ]
  },
  {
   "cell_type": "code",
   "execution_count": 6,
   "metadata": {
    "colab": {
     "base_uri": "https://localhost:8080/"
    },
    "executionInfo": {
     "elapsed": 48,
     "status": "ok",
     "timestamp": 1757038991471,
     "user": {
      "displayName": "Mr Rafi",
      "userId": "12240699368436253279"
     },
     "user_tz": -360
    },
    "id": "cfHZNayjJwrs",
    "outputId": "824e2553-2aa5-453a-fd9b-1bfea5c65958"
   },
   "outputs": [
    {
     "name": "stdout",
     "output_type": "stream",
     "text": [
      "75    New Delhi\n",
      "Name: capital_city, dtype: object\n"
     ]
    }
   ],
   "source": [
    "capital_city = df[df[\"population\"] == df[\"population\"].max()][\"capital_city\"]\n",
    "print(capital_city)"
   ]
  },
  {
   "cell_type": "markdown",
   "metadata": {
    "id": "XTlsGQZVKWBH"
   },
   "source": [
    "##### **3. Which country has the least populetion**"
   ]
  },
  {
   "cell_type": "code",
   "execution_count": 7,
   "metadata": {
    "colab": {
     "base_uri": "https://localhost:8080/"
    },
    "executionInfo": {
     "elapsed": 9,
     "status": "ok",
     "timestamp": 1757038991473,
     "user": {
      "displayName": "Mr Rafi",
      "userId": "12240699368436253279"
     },
     "user_tz": -360
    },
    "id": "Is8P_jrLKL3N",
    "outputId": "9156e477-fc30-42fd-c353-8ef2b22b8e74"
   },
   "outputs": [
    {
     "name": "stdout",
     "output_type": "stream",
     "text": [
      "179    Tuvalu\n",
      "Name: country, dtype: object\n"
     ]
    }
   ],
   "source": [
    "least_populetion = df[ df[\"population\"] == df[\"population\"].min()][\"country\"]\n",
    "print(least_populetion)"
   ]
  },
  {
   "cell_type": "markdown",
   "metadata": {
    "id": "k7MlQdwrLCee"
   },
   "source": [
    "##### **4. What is the capital of the country with last populetion**"
   ]
  },
  {
   "cell_type": "code",
   "execution_count": 8,
   "metadata": {
    "colab": {
     "base_uri": "https://localhost:8080/"
    },
    "executionInfo": {
     "elapsed": 7,
     "status": "ok",
     "timestamp": 1757038991481,
     "user": {
      "displayName": "Mr Rafi",
      "userId": "12240699368436253279"
     },
     "user_tz": -360
    },
    "id": "JzSo_Iw4K1qO",
    "outputId": "2bced15f-5db0-4c6a-9d86-4a5a712a0924"
   },
   "outputs": [
    {
     "name": "stdout",
     "output_type": "stream",
     "text": [
      "179    Funafuti\n",
      "Name: capital_city, dtype: object\n"
     ]
    }
   ],
   "source": [
    "capital_city = df[df[\"population\"] == df[\"population\"].min()][\"capital_city\"]\n",
    "print(capital_city)"
   ]
  },
  {
   "cell_type": "markdown",
   "metadata": {
    "id": "dcppD-8mLkpg"
   },
   "source": [
    "##### **5. Give me top 5 countries with highest democratic score**"
   ]
  },
  {
   "cell_type": "code",
   "execution_count": 9,
   "metadata": {
    "colab": {
     "base_uri": "https://localhost:8080/",
     "height": 0
    },
    "executionInfo": {
     "elapsed": 5,
     "status": "ok",
     "timestamp": 1757038991488,
     "user": {
      "displayName": "Mr Rafi",
      "userId": "12240699368436253279"
     },
     "user_tz": -360
    },
    "id": "polTJLsuLtwu",
    "outputId": "8ebdc35f-b210-4fed-a8d2-d82577220c58"
   },
   "outputs": [
    {
     "data": {
      "text/html": [
       "<div>\n",
       "<style scoped>\n",
       "    .dataframe tbody tr th:only-of-type {\n",
       "        vertical-align: middle;\n",
       "    }\n",
       "\n",
       "    .dataframe tbody tr th {\n",
       "        vertical-align: top;\n",
       "    }\n",
       "\n",
       "    .dataframe thead th {\n",
       "        text-align: right;\n",
       "    }\n",
       "</style>\n",
       "<table border=\"1\" class=\"dataframe\">\n",
       "  <thead>\n",
       "    <tr style=\"text-align: right;\">\n",
       "      <th></th>\n",
       "      <th>country</th>\n",
       "      <th>democracy_score</th>\n",
       "    </tr>\n",
       "  </thead>\n",
       "  <tbody>\n",
       "    <tr>\n",
       "      <th>127</th>\n",
       "      <td>Norway</td>\n",
       "      <td>9.87</td>\n",
       "    </tr>\n",
       "    <tr>\n",
       "      <th>74</th>\n",
       "      <td>Iceland</td>\n",
       "      <td>9.58</td>\n",
       "    </tr>\n",
       "    <tr>\n",
       "      <th>164</th>\n",
       "      <td>Sweden</td>\n",
       "      <td>9.39</td>\n",
       "    </tr>\n",
       "    <tr>\n",
       "      <th>122</th>\n",
       "      <td>New Zealand</td>\n",
       "      <td>9.26</td>\n",
       "    </tr>\n",
       "    <tr>\n",
       "      <th>46</th>\n",
       "      <td>Denmark</td>\n",
       "      <td>9.22</td>\n",
       "    </tr>\n",
       "  </tbody>\n",
       "</table>\n",
       "</div>"
      ],
      "text/plain": [
       "         country  democracy_score\n",
       "127       Norway             9.87\n",
       "74       Iceland             9.58\n",
       "164       Sweden             9.39\n",
       "122  New Zealand             9.26\n",
       "46       Denmark             9.22"
      ]
     },
     "execution_count": 9,
     "metadata": {},
     "output_type": "execute_result"
    }
   ],
   "source": [
    "df.sort_values(\"democracy_score\", ascending=False)[[\"country\", \"democracy_score\"]].head()"
   ]
  },
  {
   "cell_type": "markdown",
   "metadata": {
    "id": "k2L5-NHMNnu3"
   },
   "source": [
    "##### **6. How many total region are there**"
   ]
  },
  {
   "cell_type": "code",
   "execution_count": 10,
   "metadata": {
    "colab": {
     "base_uri": "https://localhost:8080/"
    },
    "executionInfo": {
     "elapsed": 8,
     "status": "ok",
     "timestamp": 1757038991499,
     "user": {
      "displayName": "Mr Rafi",
      "userId": "12240699368436253279"
     },
     "user_tz": -360
    },
    "id": "rHgvYHP-Ntru",
    "outputId": "2862bcc3-ba5c-48f0-cacb-f08c4d45c51b"
   },
   "outputs": [
    {
     "name": "stdout",
     "output_type": "stream",
     "text": [
      "total region: 22\n"
     ]
    }
   ],
   "source": [
    "count = df[\"region\"].value_counts().count()\n",
    "print(f\"total region: {count}\")"
   ]
  },
  {
   "cell_type": "markdown",
   "metadata": {
    "id": "DchBwP7dOVYJ"
   },
   "source": [
    "##### **7. How many countries lie in Eastern Europe region**"
   ]
  },
  {
   "cell_type": "code",
   "execution_count": 11,
   "metadata": {
    "colab": {
     "base_uri": "https://localhost:8080/"
    },
    "executionInfo": {
     "elapsed": 19,
     "status": "ok",
     "timestamp": 1757038991534,
     "user": {
      "displayName": "Mr Rafi",
      "userId": "12240699368436253279"
     },
     "user_tz": -360
    },
    "id": "qdf8oHGXOgNG",
    "outputId": "da986e7d-6b96-446b-df4f-13a6b289dc81"
   },
   "outputs": [
    {
     "name": "stdout",
     "output_type": "stream",
     "text": [
      "10\n"
     ]
    }
   ],
   "source": [
    "x = df[\"region\"].value_counts()[\"Eastern Europe\"]\n",
    "print(x)"
   ]
  },
  {
   "cell_type": "code",
   "execution_count": 12,
   "metadata": {
    "colab": {
     "base_uri": "https://localhost:8080/"
    },
    "executionInfo": {
     "elapsed": 27,
     "status": "ok",
     "timestamp": 1757038991555,
     "user": {
      "displayName": "Mr Rafi",
      "userId": "12240699368436253279"
     },
     "user_tz": -360
    },
    "id": "9Rb4yPFhPvd2",
    "outputId": "5ad81247-4808-4cb0-e968-b3b92c2bf227"
   },
   "outputs": [
    {
     "name": "stdout",
     "output_type": "stream",
     "text": [
      "14             Belarus\n",
      "24            Bulgaria\n",
      "43      Czech Republic\n",
      "73             Hungary\n",
      "111            Moldova\n",
      "136             Poland\n",
      "139            Romania\n",
      "140             Russia\n",
      "151    Slovak Republic\n",
      "181            Ukraine\n",
      "Name: country, dtype: object\n"
     ]
    }
   ],
   "source": [
    "x = df[df[\"region\"] == \"Eastern Europe\"][\"country\"]\n",
    "print(x)"
   ]
  },
  {
   "cell_type": "markdown",
   "metadata": {
    "id": "4aLq6UDnQJa_"
   },
   "source": [
    "##### **8. Who is the political leader of the 2nd highest populeted country**"
   ]
  },
  {
   "cell_type": "code",
   "execution_count": 13,
   "metadata": {
    "colab": {
     "base_uri": "https://localhost:8080/",
     "height": 115
    },
    "executionInfo": {
     "elapsed": 8,
     "status": "ok",
     "timestamp": 1757038991561,
     "user": {
      "displayName": "Mr Rafi",
      "userId": "12240699368436253279"
     },
     "user_tz": -360
    },
    "id": "9s6OhGQPQSjn",
    "outputId": "cb603d6d-f976-41b0-91fd-171ffe264fa8"
   },
   "outputs": [
    {
     "data": {
      "text/plain": [
       "34    Xi Jinping\n",
       "Name: political_leader, dtype: object"
      ]
     },
     "execution_count": 13,
     "metadata": {},
     "output_type": "execute_result"
    }
   ],
   "source": [
    "# political_leader\n",
    "df[df[\"population\"] == df[\"population\"].nlargest(2).iloc[1]][\"political_leader\"]"
   ]
  },
  {
   "cell_type": "markdown",
   "metadata": {
    "id": "ubnt6P1DSQHZ"
   },
   "source": [
    "##### **9. How many countries are there whoes plitical leaders are unknown**"
   ]
  },
  {
   "cell_type": "code",
   "execution_count": 14,
   "metadata": {
    "colab": {
     "base_uri": "https://localhost:8080/",
     "height": 303
    },
    "executionInfo": {
     "elapsed": 8,
     "status": "ok",
     "timestamp": 1757038991571,
     "user": {
      "displayName": "Mr Rafi",
      "userId": "12240699368436253279"
     },
     "user_tz": -360
    },
    "id": "mUo2P72wSVuf",
    "outputId": "f6e3bc8b-e8e8-4170-d3fc-c579a801faa8"
   },
   "outputs": [
    {
     "data": {
      "text/plain": [
       "27                         Cabo Verde\n",
       "151                   Slovak Republic\n",
       "159               St. Kitts and Nevis\n",
       "160                         St. Lucia\n",
       "161    St. Vincent and the Grenadines\n",
       "172                       Timor-Leste\n",
       "190                West Bank and Gaza\n",
       "Name: country, dtype: object"
      ]
     },
     "execution_count": 14,
     "metadata": {},
     "output_type": "execute_result"
    }
   ],
   "source": [
    "df[df[\"political_leader\"].isna()][\"country\"]"
   ]
  },
  {
   "cell_type": "code",
   "execution_count": 15,
   "metadata": {
    "colab": {
     "base_uri": "https://localhost:8080/"
    },
    "executionInfo": {
     "elapsed": 9,
     "status": "ok",
     "timestamp": 1757038991582,
     "user": {
      "displayName": "Mr Rafi",
      "userId": "12240699368436253279"
     },
     "user_tz": -360
    },
    "id": "99_zQ8uATFAv",
    "outputId": "9458d8c7-e1ce-4189-e8fe-b734ddea373f"
   },
   "outputs": [
    {
     "name": "stdout",
     "output_type": "stream",
     "text": [
      "Total: 7 country\n"
     ]
    }
   ],
   "source": [
    "Total_country = df[df[\"political_leader\"].isna()][\"country\"].count()\n",
    "print(f\"Total: {Total_country} country\")"
   ]
  },
  {
   "cell_type": "markdown",
   "metadata": {
    "id": "njTXYF79TW7q"
   },
   "source": [
    "##### **10. How many country have Republic in their full name**"
   ]
  },
  {
   "cell_type": "code",
   "execution_count": 16,
   "metadata": {
    "colab": {
     "base_uri": "https://localhost:8080/",
     "height": 394
    },
    "executionInfo": {
     "elapsed": 25,
     "status": "ok",
     "timestamp": 1757038991609,
     "user": {
      "displayName": "Mr Rafi",
      "userId": "12240699368436253279"
     },
     "user_tz": -360
    },
    "id": "00z76A3ZTc3f",
    "outputId": "52019394-f1d4-488c-830c-6f5fd54e91fa"
   },
   "outputs": [
    {
     "data": {
      "text/html": [
       "<div>\n",
       "<style scoped>\n",
       "    .dataframe tbody tr th:only-of-type {\n",
       "        vertical-align: middle;\n",
       "    }\n",
       "\n",
       "    .dataframe tbody tr th {\n",
       "        vertical-align: top;\n",
       "    }\n",
       "\n",
       "    .dataframe thead th {\n",
       "        text-align: right;\n",
       "    }\n",
       "</style>\n",
       "<table border=\"1\" class=\"dataframe\">\n",
       "  <thead>\n",
       "    <tr style=\"text-align: right;\">\n",
       "      <th></th>\n",
       "      <th>country</th>\n",
       "      <th>country_long</th>\n",
       "      <th>currency</th>\n",
       "      <th>capital_city</th>\n",
       "      <th>region</th>\n",
       "      <th>continent</th>\n",
       "      <th>demonym</th>\n",
       "      <th>latitude</th>\n",
       "      <th>longitude</th>\n",
       "      <th>agricultural_land</th>\n",
       "      <th>...</th>\n",
       "      <th>population</th>\n",
       "      <th>women_parliament_seats_pct</th>\n",
       "      <th>rural_population</th>\n",
       "      <th>urban_population</th>\n",
       "      <th>press</th>\n",
       "      <th>democracy_score</th>\n",
       "      <th>democracy_type</th>\n",
       "      <th>median_age</th>\n",
       "      <th>political_leader</th>\n",
       "      <th>title</th>\n",
       "    </tr>\n",
       "  </thead>\n",
       "  <tbody>\n",
       "    <tr>\n",
       "      <th>0</th>\n",
       "      <td>Afghanistan</td>\n",
       "      <td>Islamic State of Afghanistan</td>\n",
       "      <td>Afghan afghani</td>\n",
       "      <td>Kabul</td>\n",
       "      <td>Southern Asia</td>\n",
       "      <td>Asia</td>\n",
       "      <td>Afghan</td>\n",
       "      <td>33.0</td>\n",
       "      <td>65.0</td>\n",
       "      <td>383560.0</td>\n",
       "      <td>...</td>\n",
       "      <td>41128771</td>\n",
       "      <td>27.01610</td>\n",
       "      <td>30181937</td>\n",
       "      <td>10946834</td>\n",
       "      <td>2.14</td>\n",
       "      <td>2.97</td>\n",
       "      <td>Authoritarian</td>\n",
       "      <td>12.9</td>\n",
       "      <td>Ashraf Ghani</td>\n",
       "      <td>President</td>\n",
       "    </tr>\n",
       "    <tr>\n",
       "      <th>1</th>\n",
       "      <td>Albania</td>\n",
       "      <td>Republic of Albania</td>\n",
       "      <td>Albanian lek</td>\n",
       "      <td>Tirana</td>\n",
       "      <td>Southern Europe</td>\n",
       "      <td>Europe</td>\n",
       "      <td>Albanian</td>\n",
       "      <td>41.0</td>\n",
       "      <td>20.0</td>\n",
       "      <td>11655.5</td>\n",
       "      <td>...</td>\n",
       "      <td>2775634</td>\n",
       "      <td>35.71430</td>\n",
       "      <td>1004807</td>\n",
       "      <td>1770827</td>\n",
       "      <td>2.62</td>\n",
       "      <td>5.98</td>\n",
       "      <td>Hybrid regime</td>\n",
       "      <td>33.7</td>\n",
       "      <td>Edi Rama</td>\n",
       "      <td>Prime Minister</td>\n",
       "    </tr>\n",
       "    <tr>\n",
       "      <th>2</th>\n",
       "      <td>Algeria</td>\n",
       "      <td>People's Democratic Republic of Algeria</td>\n",
       "      <td>Algerian dinar</td>\n",
       "      <td>Algiers</td>\n",
       "      <td>Northern Africa</td>\n",
       "      <td>Africa</td>\n",
       "      <td>Algerian</td>\n",
       "      <td>28.0</td>\n",
       "      <td>3.0</td>\n",
       "      <td>413588.0</td>\n",
       "      <td>...</td>\n",
       "      <td>44903225</td>\n",
       "      <td>8.10811</td>\n",
       "      <td>11328186</td>\n",
       "      <td>33575039</td>\n",
       "      <td>1.71</td>\n",
       "      <td>3.50</td>\n",
       "      <td>Authoritarian</td>\n",
       "      <td>24.0</td>\n",
       "      <td>Abdelmadjid Tebboune</td>\n",
       "      <td>President</td>\n",
       "    </tr>\n",
       "    <tr>\n",
       "      <th>3</th>\n",
       "      <td>Andorra</td>\n",
       "      <td>Principality of Andorra</td>\n",
       "      <td>Euro</td>\n",
       "      <td>Andorra la Vella</td>\n",
       "      <td>Southern Europe</td>\n",
       "      <td>Europe</td>\n",
       "      <td>Andorran</td>\n",
       "      <td>42.5</td>\n",
       "      <td>1.5</td>\n",
       "      <td>187.2</td>\n",
       "      <td>...</td>\n",
       "      <td>79824</td>\n",
       "      <td>46.42860</td>\n",
       "      <td>9730</td>\n",
       "      <td>70094</td>\n",
       "      <td>3.17</td>\n",
       "      <td>0.00</td>\n",
       "      <td>Unknown</td>\n",
       "      <td>38.9</td>\n",
       "      <td>Xavier Espot Zamora</td>\n",
       "      <td>Head of Government</td>\n",
       "    </tr>\n",
       "    <tr>\n",
       "      <th>4</th>\n",
       "      <td>Angola</td>\n",
       "      <td>People's Republic of Angola</td>\n",
       "      <td>Angolan kwanza</td>\n",
       "      <td>Luanda</td>\n",
       "      <td>Middle Africa</td>\n",
       "      <td>Africa</td>\n",
       "      <td>Angolan</td>\n",
       "      <td>-12.5</td>\n",
       "      <td>18.5</td>\n",
       "      <td>569525.0</td>\n",
       "      <td>...</td>\n",
       "      <td>35588987</td>\n",
       "      <td>33.63640</td>\n",
       "      <td>11359649</td>\n",
       "      <td>24229338</td>\n",
       "      <td>2.24</td>\n",
       "      <td>3.62</td>\n",
       "      <td>Authoritarian</td>\n",
       "      <td>12.4</td>\n",
       "      <td>João Lourenço</td>\n",
       "      <td>President</td>\n",
       "    </tr>\n",
       "  </tbody>\n",
       "</table>\n",
       "<p>5 rows × 64 columns</p>\n",
       "</div>"
      ],
      "text/plain": [
       "       country                             country_long        currency  \\\n",
       "0  Afghanistan             Islamic State of Afghanistan  Afghan afghani   \n",
       "1      Albania                      Republic of Albania    Albanian lek   \n",
       "2      Algeria  People's Democratic Republic of Algeria  Algerian dinar   \n",
       "3      Andorra                  Principality of Andorra            Euro   \n",
       "4       Angola              People's Republic of Angola  Angolan kwanza   \n",
       "\n",
       "       capital_city           region continent   demonym  latitude  longitude  \\\n",
       "0             Kabul    Southern Asia      Asia    Afghan      33.0       65.0   \n",
       "1            Tirana  Southern Europe    Europe  Albanian      41.0       20.0   \n",
       "2           Algiers  Northern Africa    Africa  Algerian      28.0        3.0   \n",
       "3  Andorra la Vella  Southern Europe    Europe  Andorran      42.5        1.5   \n",
       "4            Luanda    Middle Africa    Africa   Angolan     -12.5       18.5   \n",
       "\n",
       "   agricultural_land  ...  population  women_parliament_seats_pct  \\\n",
       "0           383560.0  ...    41128771                    27.01610   \n",
       "1            11655.5  ...     2775634                    35.71430   \n",
       "2           413588.0  ...    44903225                     8.10811   \n",
       "3              187.2  ...       79824                    46.42860   \n",
       "4           569525.0  ...    35588987                    33.63640   \n",
       "\n",
       "   rural_population  urban_population  press  democracy_score  democracy_type  \\\n",
       "0          30181937          10946834   2.14             2.97   Authoritarian   \n",
       "1           1004807           1770827   2.62             5.98   Hybrid regime   \n",
       "2          11328186          33575039   1.71             3.50   Authoritarian   \n",
       "3              9730             70094   3.17             0.00         Unknown   \n",
       "4          11359649          24229338   2.24             3.62   Authoritarian   \n",
       "\n",
       "   median_age      political_leader               title  \n",
       "0        12.9          Ashraf Ghani           President  \n",
       "1        33.7              Edi Rama      Prime Minister  \n",
       "2        24.0  Abdelmadjid Tebboune           President  \n",
       "3        38.9   Xavier Espot Zamora  Head of Government  \n",
       "4        12.4         João Lourenço           President  \n",
       "\n",
       "[5 rows x 64 columns]"
      ]
     },
     "execution_count": 16,
     "metadata": {},
     "output_type": "execute_result"
    }
   ],
   "source": [
    "df.head()"
   ]
  },
  {
   "cell_type": "code",
   "execution_count": 17,
   "metadata": {
    "colab": {
     "base_uri": "https://localhost:8080/",
     "height": 241
    },
    "executionInfo": {
     "elapsed": 11,
     "status": "ok",
     "timestamp": 1757038991616,
     "user": {
      "displayName": "Mr Rafi",
      "userId": "12240699368436253279"
     },
     "user_tz": -360
    },
    "id": "u6ifbWD9Tzb3",
    "outputId": "f838800c-1542-400a-8932-e86dfb09f6b0"
   },
   "outputs": [
    {
     "data": {
      "text/plain": [
       "0               Islamic State of Afghanistan\n",
       "1                        Republic of Albania\n",
       "2    People's Democratic Republic of Algeria\n",
       "3                    Principality of Andorra\n",
       "4                People's Republic of Angola\n",
       "Name: country_long, dtype: object"
      ]
     },
     "execution_count": 17,
     "metadata": {},
     "output_type": "execute_result"
    }
   ],
   "source": [
    "df[\"country_long\"].head()"
   ]
  },
  {
   "cell_type": "code",
   "execution_count": 18,
   "metadata": {
    "colab": {
     "base_uri": "https://localhost:8080/"
    },
    "executionInfo": {
     "elapsed": 5,
     "status": "ok",
     "timestamp": 1757039132267,
     "user": {
      "displayName": "Mr Rafi",
      "userId": "12240699368436253279"
     },
     "user_tz": -360
    },
    "id": "WBrfhoorUEng",
    "outputId": "3f50f605-a294-4113-c0ff-6ee51d79da24"
   },
   "outputs": [
    {
     "name": "stdout",
     "output_type": "stream",
     "text": [
      "125\n"
     ]
    }
   ],
   "source": [
    "## 1st method\n",
    "count = 0\n",
    "for i in df[\"country_long\"].str.lower():\n",
    "  if i.count(\"republic\"):\n",
    "    count+=1\n",
    "print(count)"
   ]
  },
  {
   "cell_type": "code",
   "execution_count": 19,
   "metadata": {
    "colab": {
     "base_uri": "https://localhost:8080/"
    },
    "executionInfo": {
     "elapsed": 20,
     "status": "ok",
     "timestamp": 1757039232747,
     "user": {
      "displayName": "Mr Rafi",
      "userId": "12240699368436253279"
     },
     "user_tz": -360
    },
    "id": "j26ws7aLVZCA",
    "outputId": "d4a8109a-2ccf-495e-a37f-6c4ffd4f245d"
   },
   "outputs": [
    {
     "name": "stdout",
     "output_type": "stream",
     "text": [
      "125\n"
     ]
    }
   ],
   "source": [
    "## 2nd method\n",
    "countx = 0\n",
    "def counting(txt):\n",
    "  global countx\n",
    "  if \"republic\" in txt.lower():\n",
    "    countx += 1\n",
    "  return txt\n",
    "\n",
    "df[\"country_long\"] = df[\"country_long\"].apply(counting)\n",
    "print(countx)"
   ]
  },
  {
   "cell_type": "code",
   "execution_count": 20,
   "metadata": {
    "colab": {
     "base_uri": "https://localhost:8080/"
    },
    "executionInfo": {
     "elapsed": 8,
     "status": "ok",
     "timestamp": 1757039245871,
     "user": {
      "displayName": "Mr Rafi",
      "userId": "12240699368436253279"
     },
     "user_tz": -360
    },
    "id": "zpEV05pHswXr",
    "outputId": "6a56ba67-c632-4ecf-8301-b7d3577ca9f7"
   },
   "outputs": [
    {
     "name": "stdout",
     "output_type": "stream",
     "text": [
      "125\n"
     ]
    }
   ],
   "source": [
    "## 3rd method\n",
    "count = df[\"country_long\"].str.lower().str.contains(\"republic\").sum()\n",
    "print(count)"
   ]
  },
  {
   "cell_type": "markdown",
   "metadata": {
    "id": "Fxu9TYMjs4rb"
   },
   "source": [
    "##### **11. Which country in african region has highest populetion**"
   ]
  },
  {
   "cell_type": "code",
   "execution_count": 21,
   "metadata": {
    "executionInfo": {
     "elapsed": 3,
     "status": "ok",
     "timestamp": 1757039557411,
     "user": {
      "displayName": "Mr Rafi",
      "userId": "12240699368436253279"
     },
     "user_tz": -360
    },
    "id": "cu3d1VlStCwz"
   },
   "outputs": [],
   "source": [
    "only_africans = df[df[\"continent\"] == \"Africa\"]"
   ]
  },
  {
   "cell_type": "code",
   "execution_count": 22,
   "metadata": {
    "colab": {
     "base_uri": "https://localhost:8080/",
     "height": 165
    },
    "executionInfo": {
     "elapsed": 550,
     "status": "ok",
     "timestamp": 1757039663580,
     "user": {
      "displayName": "Mr Rafi",
      "userId": "12240699368436253279"
     },
     "user_tz": -360
    },
    "id": "SseVkt8St_oT",
    "outputId": "ca2ac612-8bae-4416-9e0c-9b3995268785"
   },
   "outputs": [
    {
     "data": {
      "text/html": [
       "<div>\n",
       "<style scoped>\n",
       "    .dataframe tbody tr th:only-of-type {\n",
       "        vertical-align: middle;\n",
       "    }\n",
       "\n",
       "    .dataframe tbody tr th {\n",
       "        vertical-align: top;\n",
       "    }\n",
       "\n",
       "    .dataframe thead th {\n",
       "        text-align: right;\n",
       "    }\n",
       "</style>\n",
       "<table border=\"1\" class=\"dataframe\">\n",
       "  <thead>\n",
       "    <tr style=\"text-align: right;\">\n",
       "      <th></th>\n",
       "      <th>country</th>\n",
       "      <th>country_long</th>\n",
       "      <th>currency</th>\n",
       "      <th>capital_city</th>\n",
       "      <th>region</th>\n",
       "      <th>continent</th>\n",
       "      <th>demonym</th>\n",
       "      <th>latitude</th>\n",
       "      <th>longitude</th>\n",
       "      <th>agricultural_land</th>\n",
       "      <th>...</th>\n",
       "      <th>population</th>\n",
       "      <th>women_parliament_seats_pct</th>\n",
       "      <th>rural_population</th>\n",
       "      <th>urban_population</th>\n",
       "      <th>press</th>\n",
       "      <th>democracy_score</th>\n",
       "      <th>democracy_type</th>\n",
       "      <th>median_age</th>\n",
       "      <th>political_leader</th>\n",
       "      <th>title</th>\n",
       "    </tr>\n",
       "  </thead>\n",
       "  <tbody>\n",
       "    <tr>\n",
       "      <th>125</th>\n",
       "      <td>Nigeria</td>\n",
       "      <td>Federal Republic of Nigeria</td>\n",
       "      <td>Nigerian naira</td>\n",
       "      <td>Abuja</td>\n",
       "      <td>Western Africa</td>\n",
       "      <td>Africa</td>\n",
       "      <td>Nigerian</td>\n",
       "      <td>10.0</td>\n",
       "      <td>8.0</td>\n",
       "      <td>694500.0</td>\n",
       "      <td>...</td>\n",
       "      <td>218541212</td>\n",
       "      <td>3.61111</td>\n",
       "      <td>101575770</td>\n",
       "      <td>116965442</td>\n",
       "      <td>2.14</td>\n",
       "      <td>4.44</td>\n",
       "      <td>Hybrid regime</td>\n",
       "      <td>13.2</td>\n",
       "      <td>Muhammadu Buhari</td>\n",
       "      <td>President</td>\n",
       "    </tr>\n",
       "  </tbody>\n",
       "</table>\n",
       "<p>1 rows × 64 columns</p>\n",
       "</div>"
      ],
      "text/plain": [
       "     country                 country_long        currency capital_city  \\\n",
       "125  Nigeria  Federal Republic of Nigeria  Nigerian naira        Abuja   \n",
       "\n",
       "             region continent   demonym  latitude  longitude  \\\n",
       "125  Western Africa    Africa  Nigerian      10.0        8.0   \n",
       "\n",
       "     agricultural_land  ...  population  women_parliament_seats_pct  \\\n",
       "125           694500.0  ...   218541212                     3.61111   \n",
       "\n",
       "     rural_population  urban_population  press  democracy_score  \\\n",
       "125         101575770         116965442   2.14             4.44   \n",
       "\n",
       "     democracy_type  median_age  political_leader      title  \n",
       "125   Hybrid regime        13.2  Muhammadu Buhari  President  \n",
       "\n",
       "[1 rows x 64 columns]"
      ]
     },
     "execution_count": 22,
     "metadata": {},
     "output_type": "execute_result"
    }
   ],
   "source": [
    "only_africans[only_africans[\"population\"] == only_africans[\"population\"].max()]"
   ]
  },
  {
   "cell_type": "code",
   "execution_count": 23,
   "metadata": {
    "colab": {
     "base_uri": "https://localhost:8080/",
     "height": 81
    },
    "executionInfo": {
     "elapsed": 47,
     "status": "ok",
     "timestamp": 1757039800742,
     "user": {
      "displayName": "Mr Rafi",
      "userId": "12240699368436253279"
     },
     "user_tz": -360
    },
    "id": "I808gBrDuBrS",
    "outputId": "1148713c-1719-4024-a8ac-1bda21243ae1"
   },
   "outputs": [
    {
     "data": {
      "text/html": [
       "<div>\n",
       "<style scoped>\n",
       "    .dataframe tbody tr th:only-of-type {\n",
       "        vertical-align: middle;\n",
       "    }\n",
       "\n",
       "    .dataframe tbody tr th {\n",
       "        vertical-align: top;\n",
       "    }\n",
       "\n",
       "    .dataframe thead th {\n",
       "        text-align: right;\n",
       "    }\n",
       "</style>\n",
       "<table border=\"1\" class=\"dataframe\">\n",
       "  <thead>\n",
       "    <tr style=\"text-align: right;\">\n",
       "      <th></th>\n",
       "      <th>country</th>\n",
       "      <th>population</th>\n",
       "    </tr>\n",
       "  </thead>\n",
       "  <tbody>\n",
       "    <tr>\n",
       "      <th>125</th>\n",
       "      <td>Nigeria</td>\n",
       "      <td>218541212</td>\n",
       "    </tr>\n",
       "  </tbody>\n",
       "</table>\n",
       "</div>"
      ],
      "text/plain": [
       "     country  population\n",
       "125  Nigeria   218541212"
      ]
     },
     "execution_count": 23,
     "metadata": {},
     "output_type": "execute_result"
    }
   ],
   "source": [
    "only_africans[only_africans[\"population\"] == only_africans[\"population\"].max()][[\"country\", \"population\"]]"
   ]
  },
  {
   "cell_type": "markdown",
   "metadata": {},
   "source": [
    "        ====================== The End ======================    "
   ]
  }
 ],
 "metadata": {
  "colab": {
   "authorship_tag": "ABX9TyNGUWUL03I13YGzlu+VWUXS",
   "collapsed_sections": [
    "zn9nj-FrHukU",
    "Mic5I2zOJotN",
    "XTlsGQZVKWBH",
    "k7MlQdwrLCee",
    "dcppD-8mLkpg",
    "k2L5-NHMNnu3",
    "DchBwP7dOVYJ",
    "4aLq6UDnQJa_",
    "ubnt6P1DSQHZ",
    "njTXYF79TW7q",
    "Fxu9TYMjs4rb"
   ],
   "mount_file_id": "1MipNe9bCAQSjaQhu2DWb6YCi4bkPEiKY",
   "provenance": []
  },
  "kernelspec": {
   "display_name": "Python 3",
   "name": "python3"
  },
  "language_info": {
   "codemirror_mode": {
    "name": "ipython",
    "version": 3
   },
   "file_extension": ".py",
   "mimetype": "text/x-python",
   "name": "python",
   "nbconvert_exporter": "python",
   "pygments_lexer": "ipython3",
   "version": "3.13.6"
  }
 },
 "nbformat": 4,
 "nbformat_minor": 0
}
