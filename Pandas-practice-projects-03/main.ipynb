{
 "cells": [
  {
   "cell_type": "markdown",
   "id": "fe04e4de",
   "metadata": {},
   "source": [
    "# **ChatGPT Pandas Project**"
   ]
  },
  {
   "cell_type": "markdown",
   "id": "b6b7ad39",
   "metadata": {},
   "source": [
    "### **🧹 Data Cleaning Assignment (Step by Step with Explanations)**\n",
    "\n",
    "**You are given a dirty dataset (Customers.csv) with:**\n",
    "\n",
    "    Missing values\n",
    "    Duplicate rows\n",
    "    Inconsistent text values\n",
    "    Extra columns to calculate"
   ]
  },
  {
   "cell_type": "code",
   "execution_count": 199,
   "id": "32760bff",
   "metadata": {},
   "outputs": [],
   "source": [
    "import pandas as pd\n",
    "import numpy as np"
   ]
  },
  {
   "cell_type": "markdown",
   "id": "771b3a89",
   "metadata": {},
   "source": [
    "**Replace blanks with 0**"
   ]
  },
  {
   "cell_type": "code",
   "execution_count": 200,
   "id": "971cc80d",
   "metadata": {},
   "outputs": [],
   "source": [
    "df = pd.read_csv(\"Customers.csv\")"
   ]
  },
  {
   "cell_type": "markdown",
   "id": "417b499b",
   "metadata": {},
   "source": [
    "**1. Identify Missing Data**\n",
    "\n",
    "**👉 Question:**\n",
    "\n",
    "    Check which columns have missing values. Show both the count and the percentage of missing values for each column."
   ]
  },
  {
   "cell_type": "code",
   "execution_count": 201,
   "id": "b9f8064f",
   "metadata": {},
   "outputs": [
    {
     "data": {
      "text/html": [
       "<div>\n",
       "<style scoped>\n",
       "    .dataframe tbody tr th:only-of-type {\n",
       "        vertical-align: middle;\n",
       "    }\n",
       "\n",
       "    .dataframe tbody tr th {\n",
       "        vertical-align: top;\n",
       "    }\n",
       "\n",
       "    .dataframe thead th {\n",
       "        text-align: right;\n",
       "    }\n",
       "</style>\n",
       "<table border=\"1\" class=\"dataframe\">\n",
       "  <thead>\n",
       "    <tr style=\"text-align: right;\">\n",
       "      <th></th>\n",
       "      <th>Columns</th>\n",
       "      <th>Null_count</th>\n",
       "      <th>Null_%</th>\n",
       "    </tr>\n",
       "  </thead>\n",
       "  <tbody>\n",
       "    <tr>\n",
       "      <th>3</th>\n",
       "      <td>Quantity_Sold</td>\n",
       "      <td>2</td>\n",
       "      <td>10.00%</td>\n",
       "    </tr>\n",
       "    <tr>\n",
       "      <th>4</th>\n",
       "      <td>Sales</td>\n",
       "      <td>1</td>\n",
       "      <td>5.00%</td>\n",
       "    </tr>\n",
       "    <tr>\n",
       "      <th>6</th>\n",
       "      <td>Customer_Rating</td>\n",
       "      <td>3</td>\n",
       "      <td>15.00%</td>\n",
       "    </tr>\n",
       "    <tr>\n",
       "      <th>8</th>\n",
       "      <td>Discount</td>\n",
       "      <td>3</td>\n",
       "      <td>15.00%</td>\n",
       "    </tr>\n",
       "  </tbody>\n",
       "</table>\n",
       "</div>"
      ],
      "text/plain": [
       "           Columns  Null_count  Null_%\n",
       "3    Quantity_Sold           2  10.00%\n",
       "4            Sales           1   5.00%\n",
       "6  Customer_Rating           3  15.00%\n",
       "8         Discount           3  15.00%"
      ]
     },
     "execution_count": 201,
     "metadata": {},
     "output_type": "execute_result"
    }
   ],
   "source": [
    "null_values = pd.DataFrame({\n",
    "    \"Columns\": df.columns,\n",
    "    \"Null_count\": df.isnull().sum().values,\n",
    "    \"Null_%\": (df.isnull().sum() / len(df) * 100).map(\"{:.2f}%\".format).values\n",
    "})\n",
    "null_values = null_values[null_values[\"Null_count\"] > 0]\n",
    "null_values"
   ]
  },
  {
   "cell_type": "markdown",
   "id": "08e19909",
   "metadata": {},
   "source": [
    "**2. Remove Duplicate Rows**\n",
    "\n",
    "**👉 Question:**\n",
    "\n",
    "    Find rows where Product_Name, Category, and Region are the same (exact duplicates).\n",
    "    Remove those duplicates, but keep the first occurrence.\n",
    "\n",
    "*(This step ensures that the dataset doesn’t count the same product twice.)*"
   ]
  },
  {
   "cell_type": "code",
   "execution_count": 202,
   "id": "e26fcc78",
   "metadata": {},
   "outputs": [
    {
     "data": {
      "text/plain": [
       "Product_Name     Category     Region      Supplier       \n",
       "Laptop           Electronics  Dhaka       TechWorld          3\n",
       "Microwave        Appliances   Sylhet      KitchenPro         2\n",
       "Air Conditioner  Appliances   Dhaka       HomeApplianceCo    2\n",
       "Tablet           Electronics  Khulna      MegaTech           2\n",
       "Camera           Electronics  Barisal     TechWorld          1\n",
       "Headphones       Electronics  Rajshahi    SoundMax           1\n",
       "Blender          Appliances   Chittagong  KitchenPro         1\n",
       "Projector        Electronics  Dhaka       VisionTech         1\n",
       "Refrigerator     Appliances   Dhaka       HomeApplianceCo    1\n",
       "Smartwatch       Electronics  Rajshahi    MegaTech           1\n",
       "Smartphone       Electronics  Chittagong  MegaTech           1\n",
       "Speaker          Electronics  Chittagong  SoundMax           1\n",
       "Television       Electronics  Dhaka       VisionTech         1\n",
       "Vacuum Cleaner   Appliances   Khulna      HomeApplianceCo    1\n",
       "Washing Machine  Appliances   Sylhet      HomeApplianceCo    1\n",
       "Name: count, dtype: int64"
      ]
     },
     "execution_count": 202,
     "metadata": {},
     "output_type": "execute_result"
    }
   ],
   "source": [
    "df[[\"Product_Name\", \"Category\", \"Region\", \"Supplier\"]].value_counts()"
   ]
  },
  {
   "cell_type": "code",
   "execution_count": 203,
   "id": "d207e618",
   "metadata": {},
   "outputs": [
    {
     "data": {
      "text/plain": [
       "20"
      ]
     },
     "execution_count": 203,
     "metadata": {},
     "output_type": "execute_result"
    }
   ],
   "source": [
    "len(df)"
   ]
  },
  {
   "cell_type": "code",
   "execution_count": 204,
   "id": "99d93989",
   "metadata": {},
   "outputs": [
    {
     "data": {
      "text/plain": [
       "15"
      ]
     },
     "execution_count": 204,
     "metadata": {},
     "output_type": "execute_result"
    }
   ],
   "source": [
    "duplicated = df[[\"Product_Name\", \"Category\", \"Region\", \"Supplier\"]].duplicated()\n",
    "len(df[~duplicated]) # 20\n",
    "df = df[~duplicated]\n",
    "len(df)"
   ]
  },
  {
   "cell_type": "code",
   "execution_count": 205,
   "id": "3b9f45c1",
   "metadata": {},
   "outputs": [
    {
     "data": {
      "text/plain": [
       "Product_Name\n",
       "Laptop             1\n",
       "Smartphone         1\n",
       "Refrigerator       1\n",
       "Microwave          1\n",
       "Headphones         1\n",
       "Television         1\n",
       "Blender            1\n",
       "Air Conditioner    1\n",
       "Tablet             1\n",
       "Camera             1\n",
       "Smartwatch         1\n",
       "Vacuum Cleaner     1\n",
       "Speaker            1\n",
       "Washing Machine    1\n",
       "Projector          1\n",
       "Name: count, dtype: int64"
      ]
     },
     "execution_count": 205,
     "metadata": {},
     "output_type": "execute_result"
    }
   ],
   "source": [
    "df[\"Product_Name\"].value_counts()"
   ]
  },
  {
   "cell_type": "markdown",
   "id": "de3831c9",
   "metadata": {},
   "source": [
    "**3. Handle Missing Values**\n",
    "\n",
    "**👉 Question:**\n",
    "\n",
    "Fix the missing values by applying the following rules:\n",
    "\n",
    "    If Sales is missing → replace it with the average Sales of the entire column.\n",
    "    If Discount is missing → replace it with 0 (means no discount was given).\n",
    "    If Customer_Rating is missing → replace it with the median rating of the dataset.\n",
    "    If Quantity_Sold is missing → replace it with the mean quantity sold of the dataset.\n",
    "\n",
    "*(This step makes sure your dataset is complete and doesn’t have blanks anymore.)*"
   ]
  },
  {
   "cell_type": "code",
   "execution_count": 206,
   "id": "ef8339dd",
   "metadata": {},
   "outputs": [
    {
     "data": {
      "text/html": [
       "<div>\n",
       "<style scoped>\n",
       "    .dataframe tbody tr th:only-of-type {\n",
       "        vertical-align: middle;\n",
       "    }\n",
       "\n",
       "    .dataframe tbody tr th {\n",
       "        vertical-align: top;\n",
       "    }\n",
       "\n",
       "    .dataframe thead th {\n",
       "        text-align: right;\n",
       "    }\n",
       "</style>\n",
       "<table border=\"1\" class=\"dataframe\">\n",
       "  <thead>\n",
       "    <tr style=\"text-align: right;\">\n",
       "      <th></th>\n",
       "      <th>Product_ID</th>\n",
       "      <th>Product_Name</th>\n",
       "      <th>Category</th>\n",
       "      <th>Quantity_Sold</th>\n",
       "      <th>Sales</th>\n",
       "      <th>Region</th>\n",
       "      <th>Customer_Rating</th>\n",
       "      <th>Supplier</th>\n",
       "      <th>Discount</th>\n",
       "      <th>Returned_Units</th>\n",
       "    </tr>\n",
       "  </thead>\n",
       "  <tbody>\n",
       "    <tr>\n",
       "      <th>0</th>\n",
       "      <td>101</td>\n",
       "      <td>Laptop</td>\n",
       "      <td>Electronics</td>\n",
       "      <td>15.0</td>\n",
       "      <td>15000.0</td>\n",
       "      <td>Dhaka</td>\n",
       "      <td>4.5</td>\n",
       "      <td>TechWorld</td>\n",
       "      <td>5.0</td>\n",
       "      <td>1</td>\n",
       "    </tr>\n",
       "  </tbody>\n",
       "</table>\n",
       "</div>"
      ],
      "text/plain": [
       "   Product_ID Product_Name     Category  Quantity_Sold    Sales Region  \\\n",
       "0         101       Laptop  Electronics           15.0  15000.0  Dhaka   \n",
       "\n",
       "   Customer_Rating   Supplier  Discount Returned_Units  \n",
       "0              4.5  TechWorld       5.0              1  "
      ]
     },
     "execution_count": 206,
     "metadata": {},
     "output_type": "execute_result"
    }
   ],
   "source": [
    "df.head(1)"
   ]
  },
  {
   "cell_type": "code",
   "execution_count": null,
   "id": "d9c828ef",
   "metadata": {},
   "outputs": [],
   "source": [
    "# If Sales is missing → replace it with the average Sales of the entire column.\n",
    "df[\"Sales\"].fillna(df[\"Sales\"].mean().__round__(2), inplace=True)"
   ]
  },
  {
   "cell_type": "code",
   "execution_count": null,
   "id": "5b8e26a0",
   "metadata": {},
   "outputs": [],
   "source": [
    "# If Discount is missing → replace it with 0 (means no discount was given).\n",
    "df[\"Discount\"].fillna(0, inplace=True)"
   ]
  },
  {
   "cell_type": "code",
   "execution_count": null,
   "id": "6612dccc",
   "metadata": {},
   "outputs": [],
   "source": [
    "# If Customer_Rating is missing → replace it with the median rating of the dataset.\n",
    "Median = df[\"Customer_Rating\"].sort_values().agg(\"median\") # Median ---> middle value --> 4.2\n",
    "df[\"Customer_Rating\"].fillna(Median, inplace=True)"
   ]
  },
  {
   "cell_type": "code",
   "execution_count": null,
   "id": "b1ca39b2",
   "metadata": {},
   "outputs": [],
   "source": [
    "# If Quantity_Sold is missing → replace it with the mean quantity sold of the dataset.\n",
    "# df[\"Quantity_Sold\"].isnull().sum()\n",
    "df[\"Quantity_Sold\"].fillna(df[\"Quantity_Sold\"].mean().__round__(2), inplace=True)"
   ]
  },
  {
   "cell_type": "markdown",
   "id": "ba6fca53",
   "metadata": {},
   "source": [
    "**4. Fix Data Consistency**\n",
    "\n",
    "**👉 Question:**\n",
    "\n",
    "    Sometimes text values are written differently but mean the same thing.\n",
    "    Make sure Region values are consistent (e.g., \"dhaka\", \"Dhaka \", \"Dhaka\" → all become \"Dhaka\").\n",
    "    Make sure Category only contains \"Electronics\" or \"Appliances\". If there are typos or variations (like \"Electronic\", \"Appliance\"), fix them.\n",
    "\n",
    "*(This step prevents confusion during analysis, because \"Dhaka\" and \"dhaka\" should not be counted separately.)*"
   ]
  },
  {
   "cell_type": "code",
   "execution_count": 211,
   "id": "87ee2cb4",
   "metadata": {},
   "outputs": [
    {
     "data": {
      "text/html": [
       "<div>\n",
       "<style scoped>\n",
       "    .dataframe tbody tr th:only-of-type {\n",
       "        vertical-align: middle;\n",
       "    }\n",
       "\n",
       "    .dataframe tbody tr th {\n",
       "        vertical-align: top;\n",
       "    }\n",
       "\n",
       "    .dataframe thead th {\n",
       "        text-align: right;\n",
       "    }\n",
       "</style>\n",
       "<table border=\"1\" class=\"dataframe\">\n",
       "  <thead>\n",
       "    <tr style=\"text-align: right;\">\n",
       "      <th></th>\n",
       "      <th>Product_ID</th>\n",
       "      <th>Product_Name</th>\n",
       "      <th>Category</th>\n",
       "      <th>Quantity_Sold</th>\n",
       "      <th>Sales</th>\n",
       "      <th>Region</th>\n",
       "      <th>Customer_Rating</th>\n",
       "      <th>Supplier</th>\n",
       "      <th>Discount</th>\n",
       "      <th>Returned_Units</th>\n",
       "    </tr>\n",
       "  </thead>\n",
       "  <tbody>\n",
       "    <tr>\n",
       "      <th>0</th>\n",
       "      <td>101</td>\n",
       "      <td>Laptop</td>\n",
       "      <td>Electronics</td>\n",
       "      <td>15.0</td>\n",
       "      <td>15000.0</td>\n",
       "      <td>Dhaka</td>\n",
       "      <td>4.5</td>\n",
       "      <td>TechWorld</td>\n",
       "      <td>5.0</td>\n",
       "      <td>1</td>\n",
       "    </tr>\n",
       "  </tbody>\n",
       "</table>\n",
       "</div>"
      ],
      "text/plain": [
       "   Product_ID Product_Name     Category  Quantity_Sold    Sales Region  \\\n",
       "0         101       Laptop  Electronics           15.0  15000.0  Dhaka   \n",
       "\n",
       "   Customer_Rating   Supplier  Discount Returned_Units  \n",
       "0              4.5  TechWorld       5.0              1  "
      ]
     },
     "execution_count": 211,
     "metadata": {},
     "output_type": "execute_result"
    }
   ],
   "source": [
    "df.head(1)"
   ]
  },
  {
   "cell_type": "code",
   "execution_count": 212,
   "id": "c69fd911",
   "metadata": {},
   "outputs": [
    {
     "data": {
      "text/html": [
       "<div>\n",
       "<style scoped>\n",
       "    .dataframe tbody tr th:only-of-type {\n",
       "        vertical-align: middle;\n",
       "    }\n",
       "\n",
       "    .dataframe tbody tr th {\n",
       "        vertical-align: top;\n",
       "    }\n",
       "\n",
       "    .dataframe thead th {\n",
       "        text-align: right;\n",
       "    }\n",
       "</style>\n",
       "<table border=\"1\" class=\"dataframe\">\n",
       "  <thead>\n",
       "    <tr style=\"text-align: right;\">\n",
       "      <th></th>\n",
       "      <th>Product_ID</th>\n",
       "      <th>Product_Name</th>\n",
       "      <th>Category</th>\n",
       "      <th>Quantity_Sold</th>\n",
       "      <th>Sales</th>\n",
       "      <th>Region</th>\n",
       "      <th>Customer_Rating</th>\n",
       "      <th>Supplier</th>\n",
       "      <th>Discount</th>\n",
       "      <th>Returned_Units</th>\n",
       "    </tr>\n",
       "  </thead>\n",
       "  <tbody>\n",
       "  </tbody>\n",
       "</table>\n",
       "</div>"
      ],
      "text/plain": [
       "Empty DataFrame\n",
       "Columns: [Product_ID, Product_Name, Category, Quantity_Sold, Sales, Region, Customer_Rating, Supplier, Discount, Returned_Units]\n",
       "Index: []"
      ]
     },
     "execution_count": 212,
     "metadata": {},
     "output_type": "execute_result"
    }
   ],
   "source": [
    "df[(df[\"Category\"] == \"Electronic\") | (df[\"Category\"] == \"Appliance\")] # Found 0"
   ]
  },
  {
   "cell_type": "code",
   "execution_count": 213,
   "id": "eea11465",
   "metadata": {},
   "outputs": [
    {
     "data": {
      "text/html": [
       "<div>\n",
       "<style scoped>\n",
       "    .dataframe tbody tr th:only-of-type {\n",
       "        vertical-align: middle;\n",
       "    }\n",
       "\n",
       "    .dataframe tbody tr th {\n",
       "        vertical-align: top;\n",
       "    }\n",
       "\n",
       "    .dataframe thead th {\n",
       "        text-align: right;\n",
       "    }\n",
       "</style>\n",
       "<table border=\"1\" class=\"dataframe\">\n",
       "  <thead>\n",
       "    <tr style=\"text-align: right;\">\n",
       "      <th></th>\n",
       "      <th>Product_ID</th>\n",
       "      <th>Product_Name</th>\n",
       "      <th>Category</th>\n",
       "      <th>Quantity_Sold</th>\n",
       "      <th>Sales</th>\n",
       "      <th>Region</th>\n",
       "      <th>Customer_Rating</th>\n",
       "      <th>Supplier</th>\n",
       "      <th>Discount</th>\n",
       "      <th>Returned_Units</th>\n",
       "    </tr>\n",
       "  </thead>\n",
       "  <tbody>\n",
       "    <tr>\n",
       "      <th>0</th>\n",
       "      <td>101</td>\n",
       "      <td>Laptop</td>\n",
       "      <td>Electronics</td>\n",
       "      <td>15.00</td>\n",
       "      <td>15000.0</td>\n",
       "      <td>Dhaka</td>\n",
       "      <td>4.5</td>\n",
       "      <td>TechWorld</td>\n",
       "      <td>5.0</td>\n",
       "      <td>1</td>\n",
       "    </tr>\n",
       "    <tr>\n",
       "      <th>2</th>\n",
       "      <td>103</td>\n",
       "      <td>Refrigerator</td>\n",
       "      <td>Appliances</td>\n",
       "      <td>10.00</td>\n",
       "      <td>12000.0</td>\n",
       "      <td>Dhaka</td>\n",
       "      <td>4.0</td>\n",
       "      <td>HomeApplianceCo</td>\n",
       "      <td>7.0</td>\n",
       "      <td>1</td>\n",
       "    </tr>\n",
       "    <tr>\n",
       "      <th>5</th>\n",
       "      <td>106</td>\n",
       "      <td>Television</td>\n",
       "      <td>Electronics</td>\n",
       "      <td>12.00</td>\n",
       "      <td>11400.0</td>\n",
       "      <td>Dhaka</td>\n",
       "      <td>4.1</td>\n",
       "      <td>VisionTech</td>\n",
       "      <td>8.0</td>\n",
       "      <td>1</td>\n",
       "    </tr>\n",
       "    <tr>\n",
       "      <th>7</th>\n",
       "      <td>108</td>\n",
       "      <td>Air Conditioner</td>\n",
       "      <td>Appliances</td>\n",
       "      <td>16.29</td>\n",
       "      <td>25000.0</td>\n",
       "      <td>Dhaka</td>\n",
       "      <td>4.3</td>\n",
       "      <td>HomeApplianceCo</td>\n",
       "      <td>15.0</td>\n",
       "      <td>1</td>\n",
       "    </tr>\n",
       "    <tr>\n",
       "      <th>18</th>\n",
       "      <td>119</td>\n",
       "      <td>Projector</td>\n",
       "      <td>Electronics</td>\n",
       "      <td>6.00</td>\n",
       "      <td>12000.0</td>\n",
       "      <td>Dhaka</td>\n",
       "      <td>4.3</td>\n",
       "      <td>VisionTech</td>\n",
       "      <td>0.0</td>\n",
       "      <td>0</td>\n",
       "    </tr>\n",
       "  </tbody>\n",
       "</table>\n",
       "</div>"
      ],
      "text/plain": [
       "    Product_ID     Product_Name     Category  Quantity_Sold    Sales Region  \\\n",
       "0          101           Laptop  Electronics          15.00  15000.0  Dhaka   \n",
       "2          103     Refrigerator   Appliances          10.00  12000.0  Dhaka   \n",
       "5          106       Television  Electronics          12.00  11400.0  Dhaka   \n",
       "7          108  Air Conditioner   Appliances          16.29  25000.0  Dhaka   \n",
       "18         119        Projector  Electronics           6.00  12000.0  Dhaka   \n",
       "\n",
       "    Customer_Rating         Supplier  Discount Returned_Units  \n",
       "0               4.5        TechWorld       5.0              1  \n",
       "2               4.0  HomeApplianceCo       7.0              1  \n",
       "5               4.1       VisionTech       8.0              1  \n",
       "7               4.3  HomeApplianceCo      15.0              1  \n",
       "18              4.3       VisionTech       0.0              0  "
      ]
     },
     "execution_count": 213,
     "metadata": {},
     "output_type": "execute_result"
    }
   ],
   "source": [
    "df[(df[\"Region\"] == \"Dhaka\") | (df[\"Region\"] == \"dhaka\")] # All is right"
   ]
  },
  {
   "cell_type": "markdown",
   "id": "ab160c50",
   "metadata": {},
   "source": [
    "**5. Create New Columns (Feature Engineering)**\n",
    "\n",
    "**👉 Question:**\n",
    "\n",
    "    Create two new calculated columns:\n",
    "    Revenue_After_Discount = Sales - (Sales * Discount / 100)\n",
    "\n",
    "*(This shows the actual revenue after applying the discount.)*\n",
    "\n",
    "    Return_Rate = (Returned_Units / Quantity_Sold) * 100\n",
    "\n",
    "*(This shows what percentage of sold products were returned.)*"
   ]
  },
  {
   "cell_type": "code",
   "execution_count": 214,
   "id": "6199703b",
   "metadata": {},
   "outputs": [
    {
     "data": {
      "text/html": [
       "<div>\n",
       "<style scoped>\n",
       "    .dataframe tbody tr th:only-of-type {\n",
       "        vertical-align: middle;\n",
       "    }\n",
       "\n",
       "    .dataframe tbody tr th {\n",
       "        vertical-align: top;\n",
       "    }\n",
       "\n",
       "    .dataframe thead th {\n",
       "        text-align: right;\n",
       "    }\n",
       "</style>\n",
       "<table border=\"1\" class=\"dataframe\">\n",
       "  <thead>\n",
       "    <tr style=\"text-align: right;\">\n",
       "      <th></th>\n",
       "      <th>Product_ID</th>\n",
       "      <th>Product_Name</th>\n",
       "      <th>Category</th>\n",
       "      <th>Quantity_Sold</th>\n",
       "      <th>Sales</th>\n",
       "      <th>Region</th>\n",
       "      <th>Customer_Rating</th>\n",
       "      <th>Supplier</th>\n",
       "      <th>Discount</th>\n",
       "      <th>Returned_Units</th>\n",
       "    </tr>\n",
       "  </thead>\n",
       "  <tbody>\n",
       "    <tr>\n",
       "      <th>0</th>\n",
       "      <td>101</td>\n",
       "      <td>Laptop</td>\n",
       "      <td>Electronics</td>\n",
       "      <td>15.0</td>\n",
       "      <td>15000.0</td>\n",
       "      <td>Dhaka</td>\n",
       "      <td>4.5</td>\n",
       "      <td>TechWorld</td>\n",
       "      <td>5.0</td>\n",
       "      <td>1</td>\n",
       "    </tr>\n",
       "  </tbody>\n",
       "</table>\n",
       "</div>"
      ],
      "text/plain": [
       "   Product_ID Product_Name     Category  Quantity_Sold    Sales Region  \\\n",
       "0         101       Laptop  Electronics           15.0  15000.0  Dhaka   \n",
       "\n",
       "   Customer_Rating   Supplier  Discount Returned_Units  \n",
       "0              4.5  TechWorld       5.0              1  "
      ]
     },
     "execution_count": 214,
     "metadata": {},
     "output_type": "execute_result"
    }
   ],
   "source": [
    "df.head(1)"
   ]
  },
  {
   "cell_type": "markdown",
   "id": "43940901",
   "metadata": {},
   "source": [
    "**Create two new calculated columns:**\n",
    "\n",
    "**Column-1:**\n",
    "\n",
    "    Revenue_After_Discount = Sales - (Sales * Discount / 100)"
   ]
  },
  {
   "cell_type": "code",
   "execution_count": 215,
   "id": "ebbf4499",
   "metadata": {},
   "outputs": [
    {
     "data": {
      "text/html": [
       "<div>\n",
       "<style scoped>\n",
       "    .dataframe tbody tr th:only-of-type {\n",
       "        vertical-align: middle;\n",
       "    }\n",
       "\n",
       "    .dataframe tbody tr th {\n",
       "        vertical-align: top;\n",
       "    }\n",
       "\n",
       "    .dataframe thead th {\n",
       "        text-align: right;\n",
       "    }\n",
       "</style>\n",
       "<table border=\"1\" class=\"dataframe\">\n",
       "  <thead>\n",
       "    <tr style=\"text-align: right;\">\n",
       "      <th></th>\n",
       "      <th>Product_ID</th>\n",
       "      <th>Product_Name</th>\n",
       "      <th>Category</th>\n",
       "      <th>Quantity_Sold</th>\n",
       "      <th>Sales</th>\n",
       "      <th>Region</th>\n",
       "      <th>Customer_Rating</th>\n",
       "      <th>Supplier</th>\n",
       "      <th>Discount</th>\n",
       "      <th>Returned_Units</th>\n",
       "      <th>Revenue_After_Discount</th>\n",
       "    </tr>\n",
       "  </thead>\n",
       "  <tbody>\n",
       "    <tr>\n",
       "      <th>0</th>\n",
       "      <td>101</td>\n",
       "      <td>Laptop</td>\n",
       "      <td>Electronics</td>\n",
       "      <td>15.0</td>\n",
       "      <td>15000.0</td>\n",
       "      <td>Dhaka</td>\n",
       "      <td>4.5</td>\n",
       "      <td>TechWorld</td>\n",
       "      <td>5.0</td>\n",
       "      <td>1</td>\n",
       "      <td>14250.0</td>\n",
       "    </tr>\n",
       "    <tr>\n",
       "      <th>1</th>\n",
       "      <td>102</td>\n",
       "      <td>Smartphone</td>\n",
       "      <td>Electronics</td>\n",
       "      <td>25.0</td>\n",
       "      <td>20000.0</td>\n",
       "      <td>Chittagong</td>\n",
       "      <td>4.2</td>\n",
       "      <td>MegaTech</td>\n",
       "      <td>10.0</td>\n",
       "      <td>0</td>\n",
       "      <td>18000.0</td>\n",
       "    </tr>\n",
       "    <tr>\n",
       "      <th>2</th>\n",
       "      <td>103</td>\n",
       "      <td>Refrigerator</td>\n",
       "      <td>Appliances</td>\n",
       "      <td>10.0</td>\n",
       "      <td>12000.0</td>\n",
       "      <td>Dhaka</td>\n",
       "      <td>4.0</td>\n",
       "      <td>HomeApplianceCo</td>\n",
       "      <td>7.0</td>\n",
       "      <td>1</td>\n",
       "      <td>11160.0</td>\n",
       "    </tr>\n",
       "  </tbody>\n",
       "</table>\n",
       "</div>"
      ],
      "text/plain": [
       "   Product_ID  Product_Name     Category  Quantity_Sold    Sales      Region  \\\n",
       "0         101        Laptop  Electronics           15.0  15000.0       Dhaka   \n",
       "1         102    Smartphone  Electronics           25.0  20000.0  Chittagong   \n",
       "2         103  Refrigerator   Appliances           10.0  12000.0       Dhaka   \n",
       "\n",
       "   Customer_Rating         Supplier  Discount Returned_Units  \\\n",
       "0              4.5        TechWorld       5.0              1   \n",
       "1              4.2         MegaTech      10.0              0   \n",
       "2              4.0  HomeApplianceCo       7.0              1   \n",
       "\n",
       "   Revenue_After_Discount  \n",
       "0                 14250.0  \n",
       "1                 18000.0  \n",
       "2                 11160.0  "
      ]
     },
     "execution_count": 215,
     "metadata": {},
     "output_type": "execute_result"
    }
   ],
   "source": [
    "df[\"Revenue_After_Discount\"] = df[\"Sales\"] - (df[\"Sales\"] * df[\"Discount\"] / 100)\n",
    "df.head(3)"
   ]
  },
  {
   "cell_type": "markdown",
   "id": "975e8dd5",
   "metadata": {},
   "source": [
    "**Column-2:**\n",
    "\n",
    "    Return_Rate = (Returned_Units / Quantity_Sold) * 100"
   ]
  },
  {
   "cell_type": "code",
   "execution_count": 216,
   "id": "c59801e2",
   "metadata": {},
   "outputs": [],
   "source": [
    "## step-1: make this \"Returned_Units\" <-- obj/str to float using \".astype(float)\"\n",
    "df[\"Returned_Units\"] = df[\"Returned_Units\"].astype(float)\n",
    "\n",
    "## step-2: then apply this\n",
    "Return_Rate = ((df[\"Returned_Units\"] / df[\"Quantity_Sold\"]) * 100).__round__(2)\n",
    "df[\"Return_Rate\"] = Return_Rate"
   ]
  },
  {
   "cell_type": "code",
   "execution_count": 217,
   "id": "f4221852",
   "metadata": {},
   "outputs": [
    {
     "data": {
      "text/html": [
       "<div>\n",
       "<style scoped>\n",
       "    .dataframe tbody tr th:only-of-type {\n",
       "        vertical-align: middle;\n",
       "    }\n",
       "\n",
       "    .dataframe tbody tr th {\n",
       "        vertical-align: top;\n",
       "    }\n",
       "\n",
       "    .dataframe thead th {\n",
       "        text-align: right;\n",
       "    }\n",
       "</style>\n",
       "<table border=\"1\" class=\"dataframe\">\n",
       "  <thead>\n",
       "    <tr style=\"text-align: right;\">\n",
       "      <th></th>\n",
       "      <th>Product_ID</th>\n",
       "      <th>Product_Name</th>\n",
       "      <th>Category</th>\n",
       "      <th>Quantity_Sold</th>\n",
       "      <th>Sales</th>\n",
       "      <th>Region</th>\n",
       "      <th>Customer_Rating</th>\n",
       "      <th>Supplier</th>\n",
       "      <th>Discount</th>\n",
       "      <th>Returned_Units</th>\n",
       "      <th>Revenue_After_Discount</th>\n",
       "      <th>Return_Rate</th>\n",
       "    </tr>\n",
       "  </thead>\n",
       "  <tbody>\n",
       "    <tr>\n",
       "      <th>0</th>\n",
       "      <td>101</td>\n",
       "      <td>Laptop</td>\n",
       "      <td>Electronics</td>\n",
       "      <td>15.0</td>\n",
       "      <td>15000.0</td>\n",
       "      <td>Dhaka</td>\n",
       "      <td>4.5</td>\n",
       "      <td>TechWorld</td>\n",
       "      <td>5.0</td>\n",
       "      <td>1.0</td>\n",
       "      <td>14250.0</td>\n",
       "      <td>6.67</td>\n",
       "    </tr>\n",
       "    <tr>\n",
       "      <th>1</th>\n",
       "      <td>102</td>\n",
       "      <td>Smartphone</td>\n",
       "      <td>Electronics</td>\n",
       "      <td>25.0</td>\n",
       "      <td>20000.0</td>\n",
       "      <td>Chittagong</td>\n",
       "      <td>4.2</td>\n",
       "      <td>MegaTech</td>\n",
       "      <td>10.0</td>\n",
       "      <td>0.0</td>\n",
       "      <td>18000.0</td>\n",
       "      <td>0.00</td>\n",
       "    </tr>\n",
       "    <tr>\n",
       "      <th>2</th>\n",
       "      <td>103</td>\n",
       "      <td>Refrigerator</td>\n",
       "      <td>Appliances</td>\n",
       "      <td>10.0</td>\n",
       "      <td>12000.0</td>\n",
       "      <td>Dhaka</td>\n",
       "      <td>4.0</td>\n",
       "      <td>HomeApplianceCo</td>\n",
       "      <td>7.0</td>\n",
       "      <td>1.0</td>\n",
       "      <td>11160.0</td>\n",
       "      <td>10.00</td>\n",
       "    </tr>\n",
       "    <tr>\n",
       "      <th>3</th>\n",
       "      <td>104</td>\n",
       "      <td>Microwave</td>\n",
       "      <td>Appliances</td>\n",
       "      <td>8.0</td>\n",
       "      <td>4000.0</td>\n",
       "      <td>Sylhet</td>\n",
       "      <td>3.8</td>\n",
       "      <td>KitchenPro</td>\n",
       "      <td>0.0</td>\n",
       "      <td>0.0</td>\n",
       "      <td>4000.0</td>\n",
       "      <td>0.00</td>\n",
       "    </tr>\n",
       "  </tbody>\n",
       "</table>\n",
       "</div>"
      ],
      "text/plain": [
       "   Product_ID  Product_Name     Category  Quantity_Sold    Sales      Region  \\\n",
       "0         101        Laptop  Electronics           15.0  15000.0       Dhaka   \n",
       "1         102    Smartphone  Electronics           25.0  20000.0  Chittagong   \n",
       "2         103  Refrigerator   Appliances           10.0  12000.0       Dhaka   \n",
       "3         104     Microwave   Appliances            8.0   4000.0      Sylhet   \n",
       "\n",
       "   Customer_Rating         Supplier  Discount  Returned_Units  \\\n",
       "0              4.5        TechWorld       5.0             1.0   \n",
       "1              4.2         MegaTech      10.0             0.0   \n",
       "2              4.0  HomeApplianceCo       7.0             1.0   \n",
       "3              3.8       KitchenPro       0.0             0.0   \n",
       "\n",
       "   Revenue_After_Discount  Return_Rate  \n",
       "0                 14250.0         6.67  \n",
       "1                 18000.0         0.00  \n",
       "2                 11160.0        10.00  \n",
       "3                  4000.0         0.00  "
      ]
     },
     "execution_count": 217,
     "metadata": {},
     "output_type": "execute_result"
    }
   ],
   "source": [
    "df.head(4)"
   ]
  },
  {
   "cell_type": "markdown",
   "id": "37ddc312",
   "metadata": {},
   "source": [
    "**6. Save the Clean Dataset**\n",
    "\n",
    "**👉 Question:**\n",
    "\n",
    "    After cleaning the dataset:\n",
    "    There should be no missing values.\n",
    "    There should be no duplicate rows.\n",
    "    Text values should be consistent.\n",
    "\n",
    "*Finally, save the cleaned dataset into a new CSV file called:*\n",
    "*sales_data_clean.csv*\n",
    "\n",
    "*(This file will be your final, fully usable dataset.)*"
   ]
  },
  {
   "cell_type": "markdown",
   "id": "0cb0c51b",
   "metadata": {},
   "source": [
    "**Creating New Data-Set CSV File**"
   ]
  },
  {
   "cell_type": "code",
   "execution_count": 218,
   "id": "8f076045",
   "metadata": {},
   "outputs": [],
   "source": [
    "df.to_csv(\"New_DataSet.csv\", index=False)"
   ]
  },
  {
   "cell_type": "markdown",
   "id": "0cb2f57f",
   "metadata": {},
   "source": [
    "**Your dataset fully meets all the requirements we set:** *<-- Chacked by ChatGPT*\n",
    "\n",
    "1. Nulls handled ✅\n",
    "2. Duplicates removed ✅\n",
    "3. Text standardized ✅\n",
    "4. Revenue and return rate calculated ✅"
   ]
  }
 ],
 "metadata": {
  "kernelspec": {
   "display_name": "Python 3",
   "language": "python",
   "name": "python3"
  },
  "language_info": {
   "codemirror_mode": {
    "name": "ipython",
    "version": 3
   },
   "file_extension": ".py",
   "mimetype": "text/x-python",
   "name": "python",
   "nbconvert_exporter": "python",
   "pygments_lexer": "ipython3",
   "version": "3.13.6"
  }
 },
 "nbformat": 4,
 "nbformat_minor": 5
}
