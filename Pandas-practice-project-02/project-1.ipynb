{
 "cells": [
  {
   "cell_type": "markdown",
   "id": "11ffb80d",
   "metadata": {},
   "source": [
    "# **Practicing pandas**"
   ]
  },
  {
   "cell_type": "markdown",
   "id": "57e3e234",
   "metadata": {},
   "source": [
    "**✅ Beginner-Friendly Pandas Practice Questions**"
   ]
  },
  {
   "cell_type": "code",
   "execution_count": 26,
   "id": "cbbc25e0",
   "metadata": {},
   "outputs": [],
   "source": [
    "import numpy as np\n",
    "import pandas as pd"
   ]
  },
  {
   "cell_type": "code",
   "execution_count": 27,
   "id": "74197a13",
   "metadata": {},
   "outputs": [],
   "source": [
    "dates = pd.date_range(start=\"2023-05-01\", periods=10, freq=\"1D\").strftime(\"%Y-%m-%d\").tolist()\n",
    "\n",
    "data = {\n",
    "    \"CustomerID\": [i for i in range(1, 11)],\n",
    "    \"CustomerName\": [\"Alice Smith\",\"Bob Johnson\",\"Charlie Lee\",\"Diana Green\",\"Ethan Brown\",\"Farah Khan\",\n",
    "                     \"George Miller\",\"Hannah Davis\",\"Ivan Petrov\",\"Julia Lopez\"],\n",
    "    \"Country\": [\"USA\", \"Canada\", \"UK\", \"Sweden\", \"Brazil\", \"India\", \"USA\", \"Canada\", \"Russia\", \"Mexico\"],\n",
    "    \"Age\": [25, 30, 35, 28, 40, 22, 33, 27, 29, 31],\n",
    "    \"Gender\": [\"F\", \"M\", \"M\", \"F\", \"M\", \"F\", \"M\", \"F\", \"M\", \"F\"],\n",
    "    \"Product\": [\"Laptop\", \"Smartphone\", \"Headphones\", \"Tablet\", \"Laptop\", \n",
    "                \"Smartphone\", \"Smartwatch\", \"Headphones\", \"Laptop\", \"Smartphone\"],\n",
    "    \"Quantity\": [1, 2, 3, 1, 2, 1, 2, 4, 1, 2],\n",
    "    \"Price\": [1200, 800, 150, 600, 1100, 900, 300, 120, 1300, 850],\n",
    "    \"PurchaseDate\": dates\n",
    "}\n",
    "\n",
    "df = pd.DataFrame(data)"
   ]
  },
  {
   "cell_type": "code",
   "execution_count": 28,
   "id": "1e5f18e8",
   "metadata": {},
   "outputs": [
    {
     "data": {
      "text/html": [
       "<div>\n",
       "<style scoped>\n",
       "    .dataframe tbody tr th:only-of-type {\n",
       "        vertical-align: middle;\n",
       "    }\n",
       "\n",
       "    .dataframe tbody tr th {\n",
       "        vertical-align: top;\n",
       "    }\n",
       "\n",
       "    .dataframe thead th {\n",
       "        text-align: right;\n",
       "    }\n",
       "</style>\n",
       "<table border=\"1\" class=\"dataframe\">\n",
       "  <thead>\n",
       "    <tr style=\"text-align: right;\">\n",
       "      <th></th>\n",
       "      <th>CustomerID</th>\n",
       "      <th>CustomerName</th>\n",
       "      <th>Country</th>\n",
       "      <th>Age</th>\n",
       "      <th>Gender</th>\n",
       "      <th>Product</th>\n",
       "      <th>Quantity</th>\n",
       "      <th>Price</th>\n",
       "      <th>PurchaseDate</th>\n",
       "    </tr>\n",
       "  </thead>\n",
       "  <tbody>\n",
       "    <tr>\n",
       "      <th>0</th>\n",
       "      <td>1</td>\n",
       "      <td>Alice Smith</td>\n",
       "      <td>USA</td>\n",
       "      <td>25</td>\n",
       "      <td>F</td>\n",
       "      <td>Laptop</td>\n",
       "      <td>1</td>\n",
       "      <td>1200</td>\n",
       "      <td>2023-05-01</td>\n",
       "    </tr>\n",
       "    <tr>\n",
       "      <th>1</th>\n",
       "      <td>2</td>\n",
       "      <td>Bob Johnson</td>\n",
       "      <td>Canada</td>\n",
       "      <td>30</td>\n",
       "      <td>M</td>\n",
       "      <td>Smartphone</td>\n",
       "      <td>2</td>\n",
       "      <td>800</td>\n",
       "      <td>2023-05-02</td>\n",
       "    </tr>\n",
       "    <tr>\n",
       "      <th>2</th>\n",
       "      <td>3</td>\n",
       "      <td>Charlie Lee</td>\n",
       "      <td>UK</td>\n",
       "      <td>35</td>\n",
       "      <td>M</td>\n",
       "      <td>Headphones</td>\n",
       "      <td>3</td>\n",
       "      <td>150</td>\n",
       "      <td>2023-05-03</td>\n",
       "    </tr>\n",
       "    <tr>\n",
       "      <th>3</th>\n",
       "      <td>4</td>\n",
       "      <td>Diana Green</td>\n",
       "      <td>Sweden</td>\n",
       "      <td>28</td>\n",
       "      <td>F</td>\n",
       "      <td>Tablet</td>\n",
       "      <td>1</td>\n",
       "      <td>600</td>\n",
       "      <td>2023-05-04</td>\n",
       "    </tr>\n",
       "    <tr>\n",
       "      <th>4</th>\n",
       "      <td>5</td>\n",
       "      <td>Ethan Brown</td>\n",
       "      <td>Brazil</td>\n",
       "      <td>40</td>\n",
       "      <td>M</td>\n",
       "      <td>Laptop</td>\n",
       "      <td>2</td>\n",
       "      <td>1100</td>\n",
       "      <td>2023-05-05</td>\n",
       "    </tr>\n",
       "    <tr>\n",
       "      <th>5</th>\n",
       "      <td>6</td>\n",
       "      <td>Farah Khan</td>\n",
       "      <td>India</td>\n",
       "      <td>22</td>\n",
       "      <td>F</td>\n",
       "      <td>Smartphone</td>\n",
       "      <td>1</td>\n",
       "      <td>900</td>\n",
       "      <td>2023-05-06</td>\n",
       "    </tr>\n",
       "    <tr>\n",
       "      <th>6</th>\n",
       "      <td>7</td>\n",
       "      <td>George Miller</td>\n",
       "      <td>USA</td>\n",
       "      <td>33</td>\n",
       "      <td>M</td>\n",
       "      <td>Smartwatch</td>\n",
       "      <td>2</td>\n",
       "      <td>300</td>\n",
       "      <td>2023-05-07</td>\n",
       "    </tr>\n",
       "    <tr>\n",
       "      <th>7</th>\n",
       "      <td>8</td>\n",
       "      <td>Hannah Davis</td>\n",
       "      <td>Canada</td>\n",
       "      <td>27</td>\n",
       "      <td>F</td>\n",
       "      <td>Headphones</td>\n",
       "      <td>4</td>\n",
       "      <td>120</td>\n",
       "      <td>2023-05-08</td>\n",
       "    </tr>\n",
       "    <tr>\n",
       "      <th>8</th>\n",
       "      <td>9</td>\n",
       "      <td>Ivan Petrov</td>\n",
       "      <td>Russia</td>\n",
       "      <td>29</td>\n",
       "      <td>M</td>\n",
       "      <td>Laptop</td>\n",
       "      <td>1</td>\n",
       "      <td>1300</td>\n",
       "      <td>2023-05-09</td>\n",
       "    </tr>\n",
       "    <tr>\n",
       "      <th>9</th>\n",
       "      <td>10</td>\n",
       "      <td>Julia Lopez</td>\n",
       "      <td>Mexico</td>\n",
       "      <td>31</td>\n",
       "      <td>F</td>\n",
       "      <td>Smartphone</td>\n",
       "      <td>2</td>\n",
       "      <td>850</td>\n",
       "      <td>2023-05-10</td>\n",
       "    </tr>\n",
       "  </tbody>\n",
       "</table>\n",
       "</div>"
      ],
      "text/plain": [
       "   CustomerID   CustomerName Country  Age Gender     Product  Quantity  Price  \\\n",
       "0           1    Alice Smith     USA   25      F      Laptop         1   1200   \n",
       "1           2    Bob Johnson  Canada   30      M  Smartphone         2    800   \n",
       "2           3    Charlie Lee      UK   35      M  Headphones         3    150   \n",
       "3           4    Diana Green  Sweden   28      F      Tablet         1    600   \n",
       "4           5    Ethan Brown  Brazil   40      M      Laptop         2   1100   \n",
       "5           6     Farah Khan   India   22      F  Smartphone         1    900   \n",
       "6           7  George Miller     USA   33      M  Smartwatch         2    300   \n",
       "7           8   Hannah Davis  Canada   27      F  Headphones         4    120   \n",
       "8           9    Ivan Petrov  Russia   29      M      Laptop         1   1300   \n",
       "9          10    Julia Lopez  Mexico   31      F  Smartphone         2    850   \n",
       "\n",
       "  PurchaseDate  \n",
       "0   2023-05-01  \n",
       "1   2023-05-02  \n",
       "2   2023-05-03  \n",
       "3   2023-05-04  \n",
       "4   2023-05-05  \n",
       "5   2023-05-06  \n",
       "6   2023-05-07  \n",
       "7   2023-05-08  \n",
       "8   2023-05-09  \n",
       "9   2023-05-10  "
      ]
     },
     "execution_count": 28,
     "metadata": {},
     "output_type": "execute_result"
    }
   ],
   "source": [
    "df"
   ]
  },
  {
   "cell_type": "markdown",
   "id": "deeb1431",
   "metadata": {},
   "source": [
    "### **1 Basic Selection**"
   ]
  },
  {
   "cell_type": "markdown",
   "id": "ed89768f",
   "metadata": {},
   "source": [
    "    1. Show only the names of customers from USA."
   ]
  },
  {
   "cell_type": "code",
   "execution_count": 29,
   "id": "27646763",
   "metadata": {},
   "outputs": [
    {
     "data": {
      "text/plain": [
       "0      Alice Smith\n",
       "6    George Miller\n",
       "Name: CustomerName, dtype: object"
      ]
     },
     "execution_count": 29,
     "metadata": {},
     "output_type": "execute_result"
    }
   ],
   "source": [
    "df[df[\"Country\"] == \"USA\"][\"CustomerName\"]"
   ]
  },
  {
   "cell_type": "markdown",
   "id": "c7149219",
   "metadata": {},
   "source": [
    "    2. Show the CustomerName and Product columns only."
   ]
  },
  {
   "cell_type": "code",
   "execution_count": 30,
   "id": "97116d9e",
   "metadata": {},
   "outputs": [
    {
     "data": {
      "text/html": [
       "<div>\n",
       "<style scoped>\n",
       "    .dataframe tbody tr th:only-of-type {\n",
       "        vertical-align: middle;\n",
       "    }\n",
       "\n",
       "    .dataframe tbody tr th {\n",
       "        vertical-align: top;\n",
       "    }\n",
       "\n",
       "    .dataframe thead th {\n",
       "        text-align: right;\n",
       "    }\n",
       "</style>\n",
       "<table border=\"1\" class=\"dataframe\">\n",
       "  <thead>\n",
       "    <tr style=\"text-align: right;\">\n",
       "      <th></th>\n",
       "      <th>CustomerName</th>\n",
       "      <th>Product</th>\n",
       "    </tr>\n",
       "  </thead>\n",
       "  <tbody>\n",
       "    <tr>\n",
       "      <th>0</th>\n",
       "      <td>Alice Smith</td>\n",
       "      <td>Laptop</td>\n",
       "    </tr>\n",
       "    <tr>\n",
       "      <th>1</th>\n",
       "      <td>Bob Johnson</td>\n",
       "      <td>Smartphone</td>\n",
       "    </tr>\n",
       "    <tr>\n",
       "      <th>2</th>\n",
       "      <td>Charlie Lee</td>\n",
       "      <td>Headphones</td>\n",
       "    </tr>\n",
       "    <tr>\n",
       "      <th>3</th>\n",
       "      <td>Diana Green</td>\n",
       "      <td>Tablet</td>\n",
       "    </tr>\n",
       "    <tr>\n",
       "      <th>4</th>\n",
       "      <td>Ethan Brown</td>\n",
       "      <td>Laptop</td>\n",
       "    </tr>\n",
       "    <tr>\n",
       "      <th>5</th>\n",
       "      <td>Farah Khan</td>\n",
       "      <td>Smartphone</td>\n",
       "    </tr>\n",
       "    <tr>\n",
       "      <th>6</th>\n",
       "      <td>George Miller</td>\n",
       "      <td>Smartwatch</td>\n",
       "    </tr>\n",
       "    <tr>\n",
       "      <th>7</th>\n",
       "      <td>Hannah Davis</td>\n",
       "      <td>Headphones</td>\n",
       "    </tr>\n",
       "    <tr>\n",
       "      <th>8</th>\n",
       "      <td>Ivan Petrov</td>\n",
       "      <td>Laptop</td>\n",
       "    </tr>\n",
       "    <tr>\n",
       "      <th>9</th>\n",
       "      <td>Julia Lopez</td>\n",
       "      <td>Smartphone</td>\n",
       "    </tr>\n",
       "  </tbody>\n",
       "</table>\n",
       "</div>"
      ],
      "text/plain": [
       "    CustomerName     Product\n",
       "0    Alice Smith      Laptop\n",
       "1    Bob Johnson  Smartphone\n",
       "2    Charlie Lee  Headphones\n",
       "3    Diana Green      Tablet\n",
       "4    Ethan Brown      Laptop\n",
       "5     Farah Khan  Smartphone\n",
       "6  George Miller  Smartwatch\n",
       "7   Hannah Davis  Headphones\n",
       "8    Ivan Petrov      Laptop\n",
       "9    Julia Lopez  Smartphone"
      ]
     },
     "execution_count": 30,
     "metadata": {},
     "output_type": "execute_result"
    }
   ],
   "source": [
    "df[[\"CustomerName\", \"Product\"]]"
   ]
  },
  {
   "cell_type": "markdown",
   "id": "56754eb0",
   "metadata": {},
   "source": [
    "### **2 Filtering**"
   ]
  },
  {
   "cell_type": "code",
   "execution_count": 31,
   "id": "3cec588b",
   "metadata": {},
   "outputs": [
    {
     "data": {
      "text/plain": [
       "Index(['CustomerID', 'CustomerName', 'Country', 'Age', 'Gender', 'Product',\n",
       "       'Quantity', 'Price', 'PurchaseDate'],\n",
       "      dtype='object')"
      ]
     },
     "execution_count": 31,
     "metadata": {},
     "output_type": "execute_result"
    }
   ],
   "source": [
    "df.columns"
   ]
  },
  {
   "cell_type": "markdown",
   "id": "8de910d4",
   "metadata": {},
   "source": [
    "    1. Find all customers who bought a Laptop."
   ]
  },
  {
   "cell_type": "code",
   "execution_count": 32,
   "id": "88987acb",
   "metadata": {},
   "outputs": [
    {
     "data": {
      "text/plain": [
       "0    Alice Smith\n",
       "4    Ethan Brown\n",
       "8    Ivan Petrov\n",
       "Name: CustomerName, dtype: object"
      ]
     },
     "execution_count": 32,
     "metadata": {},
     "output_type": "execute_result"
    }
   ],
   "source": [
    "df[df[\"Product\"] == \"Laptop\"][\"CustomerName\"]"
   ]
  },
  {
   "cell_type": "markdown",
   "id": "0668a42c",
   "metadata": {},
   "source": [
    "    2. Find all customers older than 30 years."
   ]
  },
  {
   "cell_type": "code",
   "execution_count": 33,
   "id": "388c3b76",
   "metadata": {},
   "outputs": [
    {
     "data": {
      "text/html": [
       "<div>\n",
       "<style scoped>\n",
       "    .dataframe tbody tr th:only-of-type {\n",
       "        vertical-align: middle;\n",
       "    }\n",
       "\n",
       "    .dataframe tbody tr th {\n",
       "        vertical-align: top;\n",
       "    }\n",
       "\n",
       "    .dataframe thead th {\n",
       "        text-align: right;\n",
       "    }\n",
       "</style>\n",
       "<table border=\"1\" class=\"dataframe\">\n",
       "  <thead>\n",
       "    <tr style=\"text-align: right;\">\n",
       "      <th></th>\n",
       "      <th>CustomerName</th>\n",
       "      <th>Age</th>\n",
       "    </tr>\n",
       "  </thead>\n",
       "  <tbody>\n",
       "    <tr>\n",
       "      <th>1</th>\n",
       "      <td>Bob Johnson</td>\n",
       "      <td>30</td>\n",
       "    </tr>\n",
       "    <tr>\n",
       "      <th>2</th>\n",
       "      <td>Charlie Lee</td>\n",
       "      <td>35</td>\n",
       "    </tr>\n",
       "    <tr>\n",
       "      <th>4</th>\n",
       "      <td>Ethan Brown</td>\n",
       "      <td>40</td>\n",
       "    </tr>\n",
       "    <tr>\n",
       "      <th>6</th>\n",
       "      <td>George Miller</td>\n",
       "      <td>33</td>\n",
       "    </tr>\n",
       "    <tr>\n",
       "      <th>9</th>\n",
       "      <td>Julia Lopez</td>\n",
       "      <td>31</td>\n",
       "    </tr>\n",
       "  </tbody>\n",
       "</table>\n",
       "</div>"
      ],
      "text/plain": [
       "    CustomerName  Age\n",
       "1    Bob Johnson   30\n",
       "2    Charlie Lee   35\n",
       "4    Ethan Brown   40\n",
       "6  George Miller   33\n",
       "9    Julia Lopez   31"
      ]
     },
     "execution_count": 33,
     "metadata": {},
     "output_type": "execute_result"
    }
   ],
   "source": [
    "df[df[\"Age\"] >= 30][[\"CustomerName\", \"Age\"]]"
   ]
  },
  {
   "cell_type": "markdown",
   "id": "3a9eba08",
   "metadata": {},
   "source": [
    "### **3 Sorting**"
   ]
  },
  {
   "cell_type": "markdown",
   "id": "dbb4f521",
   "metadata": {},
   "source": [
    "    1. Sort the customers by Age."
   ]
  },
  {
   "cell_type": "code",
   "execution_count": 34,
   "id": "2d0b2de9",
   "metadata": {},
   "outputs": [
    {
     "data": {
      "text/html": [
       "<div>\n",
       "<style scoped>\n",
       "    .dataframe tbody tr th:only-of-type {\n",
       "        vertical-align: middle;\n",
       "    }\n",
       "\n",
       "    .dataframe tbody tr th {\n",
       "        vertical-align: top;\n",
       "    }\n",
       "\n",
       "    .dataframe thead th {\n",
       "        text-align: right;\n",
       "    }\n",
       "</style>\n",
       "<table border=\"1\" class=\"dataframe\">\n",
       "  <thead>\n",
       "    <tr style=\"text-align: right;\">\n",
       "      <th></th>\n",
       "      <th>CustomerName</th>\n",
       "      <th>Age</th>\n",
       "    </tr>\n",
       "  </thead>\n",
       "  <tbody>\n",
       "    <tr>\n",
       "      <th>5</th>\n",
       "      <td>Farah Khan</td>\n",
       "      <td>22</td>\n",
       "    </tr>\n",
       "    <tr>\n",
       "      <th>0</th>\n",
       "      <td>Alice Smith</td>\n",
       "      <td>25</td>\n",
       "    </tr>\n",
       "    <tr>\n",
       "      <th>7</th>\n",
       "      <td>Hannah Davis</td>\n",
       "      <td>27</td>\n",
       "    </tr>\n",
       "    <tr>\n",
       "      <th>3</th>\n",
       "      <td>Diana Green</td>\n",
       "      <td>28</td>\n",
       "    </tr>\n",
       "    <tr>\n",
       "      <th>8</th>\n",
       "      <td>Ivan Petrov</td>\n",
       "      <td>29</td>\n",
       "    </tr>\n",
       "  </tbody>\n",
       "</table>\n",
       "</div>"
      ],
      "text/plain": [
       "   CustomerName  Age\n",
       "5    Farah Khan   22\n",
       "0   Alice Smith   25\n",
       "7  Hannah Davis   27\n",
       "3   Diana Green   28\n",
       "8   Ivan Petrov   29"
      ]
     },
     "execution_count": 34,
     "metadata": {},
     "output_type": "execute_result"
    }
   ],
   "source": [
    "df.sort_values(\"Age\", ascending=True)[[\"CustomerName\", \"Age\"]].head()"
   ]
  },
  {
   "cell_type": "markdown",
   "id": "f3cc69b7",
   "metadata": {},
   "source": [
    "    2. Sort by Price in descending order."
   ]
  },
  {
   "cell_type": "code",
   "execution_count": 35,
   "id": "1d3f52ed",
   "metadata": {},
   "outputs": [
    {
     "data": {
      "text/html": [
       "<div>\n",
       "<style scoped>\n",
       "    .dataframe tbody tr th:only-of-type {\n",
       "        vertical-align: middle;\n",
       "    }\n",
       "\n",
       "    .dataframe tbody tr th {\n",
       "        vertical-align: top;\n",
       "    }\n",
       "\n",
       "    .dataframe thead th {\n",
       "        text-align: right;\n",
       "    }\n",
       "</style>\n",
       "<table border=\"1\" class=\"dataframe\">\n",
       "  <thead>\n",
       "    <tr style=\"text-align: right;\">\n",
       "      <th></th>\n",
       "      <th>CustomerName</th>\n",
       "      <th>Price</th>\n",
       "    </tr>\n",
       "  </thead>\n",
       "  <tbody>\n",
       "    <tr>\n",
       "      <th>8</th>\n",
       "      <td>Ivan Petrov</td>\n",
       "      <td>1300</td>\n",
       "    </tr>\n",
       "    <tr>\n",
       "      <th>0</th>\n",
       "      <td>Alice Smith</td>\n",
       "      <td>1200</td>\n",
       "    </tr>\n",
       "    <tr>\n",
       "      <th>4</th>\n",
       "      <td>Ethan Brown</td>\n",
       "      <td>1100</td>\n",
       "    </tr>\n",
       "    <tr>\n",
       "      <th>5</th>\n",
       "      <td>Farah Khan</td>\n",
       "      <td>900</td>\n",
       "    </tr>\n",
       "    <tr>\n",
       "      <th>9</th>\n",
       "      <td>Julia Lopez</td>\n",
       "      <td>850</td>\n",
       "    </tr>\n",
       "  </tbody>\n",
       "</table>\n",
       "</div>"
      ],
      "text/plain": [
       "  CustomerName  Price\n",
       "8  Ivan Petrov   1300\n",
       "0  Alice Smith   1200\n",
       "4  Ethan Brown   1100\n",
       "5   Farah Khan    900\n",
       "9  Julia Lopez    850"
      ]
     },
     "execution_count": 35,
     "metadata": {},
     "output_type": "execute_result"
    }
   ],
   "source": [
    "df.sort_values(\"Price\", ascending=False)[[\"CustomerName\", \"Price\"]].head()"
   ]
  },
  {
   "cell_type": "markdown",
   "id": "82004ffc",
   "metadata": {},
   "source": [
    "### **4 Aggregation**"
   ]
  },
  {
   "cell_type": "markdown",
   "id": "92b7ff76",
   "metadata": {},
   "source": [
    "    1. Find the average age of customers."
   ]
  },
  {
   "cell_type": "code",
   "execution_count": 36,
   "id": "4aa3b90b",
   "metadata": {},
   "outputs": [
    {
     "name": "stdout",
     "output_type": "stream",
     "text": [
      "30.0\n",
      "30.0\n"
     ]
    }
   ],
   "source": [
    "## Manually\n",
    "average = df[\"Age\"].sum() / len(df[\"Age\"])\n",
    "print(average) # 30.0\n",
    "\n",
    "## using \".mean()\" func\n",
    "print(df[\"Age\"].mean())  # also 30.0"
   ]
  },
  {
   "cell_type": "markdown",
   "id": "8ae7c9f4",
   "metadata": {},
   "source": [
    "    2. Find the total quantity of products sold."
   ]
  },
  {
   "cell_type": "code",
   "execution_count": 37,
   "id": "58d37510",
   "metadata": {},
   "outputs": [
    {
     "name": "stdout",
     "output_type": "stream",
     "text": [
      "19\n",
      "19\n"
     ]
    }
   ],
   "source": [
    "print(df[\"Quantity\"].sum())\n",
    "print(df[\"Quantity\"].agg(\"sum\"))# Aggregations method"
   ]
  },
  {
   "cell_type": "markdown",
   "id": "09303fd4",
   "metadata": {},
   "source": [
    "    3. Find the maximum price of any product."
   ]
  },
  {
   "cell_type": "code",
   "execution_count": 38,
   "id": "a72961b8",
   "metadata": {},
   "outputs": [
    {
     "name": "stdout",
     "output_type": "stream",
     "text": [
      "1300\n",
      "1300\n"
     ]
    }
   ],
   "source": [
    "print(df[\"Price\"].max())\n",
    "print(df[\"Price\"].agg(\"max\"))# Aggregations method"
   ]
  },
  {
   "cell_type": "markdown",
   "id": "ddcbcdf2",
   "metadata": {},
   "source": [
    "### **5 GroupBy**"
   ]
  },
  {
   "cell_type": "code",
   "execution_count": 39,
   "id": "546b4b6a",
   "metadata": {},
   "outputs": [
    {
     "data": {
      "text/plain": [
       "Index(['CustomerID', 'CustomerName', 'Country', 'Age', 'Gender', 'Product',\n",
       "       'Quantity', 'Price', 'PurchaseDate'],\n",
       "      dtype='object')"
      ]
     },
     "execution_count": 39,
     "metadata": {},
     "output_type": "execute_result"
    }
   ],
   "source": [
    "df.columns"
   ]
  },
  {
   "cell_type": "markdown",
   "id": "47d5d4e1",
   "metadata": {},
   "source": [
    "    1. Find the total Quantity purchased by each Country."
   ]
  },
  {
   "cell_type": "code",
   "execution_count": 40,
   "id": "65106b5d",
   "metadata": {},
   "outputs": [
    {
     "name": "stdout",
     "output_type": "stream",
     "text": [
      "  Country  Quantity\n",
      "0  Brazil         2\n",
      "1  Canada         6 \n",
      "\n",
      "Country  Quantity\n",
      " Brazil         2\n",
      " Canada         6\n",
      "  India         1\n",
      " Mexico         2\n",
      " Russia         1\n",
      " Sweden         1\n",
      "     UK         3\n",
      "    USA         3\n"
     ]
    }
   ],
   "source": [
    "total = df.groupby(\"Country\", as_index=False)[\"Quantity\"].sum()\n",
    "print(total.head(2), \"\\n\")\n",
    "print(total.to_string(index=False)) # removing the default index number"
   ]
  },
  {
   "cell_type": "markdown",
   "id": "7a43c248",
   "metadata": {},
   "source": [
    "    2. Find the average Price of products by Gender."
   ]
  },
  {
   "cell_type": "code",
   "execution_count": 41,
   "id": "3a8e1378",
   "metadata": {},
   "outputs": [
    {
     "data": {
      "text/plain": [
       "Index(['CustomerID', 'CustomerName', 'Country', 'Age', 'Gender', 'Product',\n",
       "       'Quantity', 'Price', 'PurchaseDate'],\n",
       "      dtype='object')"
      ]
     },
     "execution_count": 41,
     "metadata": {},
     "output_type": "execute_result"
    }
   ],
   "source": [
    "df.columns"
   ]
  },
  {
   "cell_type": "markdown",
   "id": "bb50e997",
   "metadata": {},
   "source": [
    "*\"mean()\" func help to calculate the average*"
   ]
  },
  {
   "cell_type": "code",
   "execution_count": 42,
   "id": "5dfaa6e5",
   "metadata": {},
   "outputs": [
    {
     "name": "stdout",
     "output_type": "stream",
     "text": [
      "Gender  Price\n",
      "     F  734.0\n",
      "     M  730.0\n"
     ]
    }
   ],
   "source": [
    "average_price = df.groupby(\"Gender\", as_index=False)[\"Price\"].mean()\n",
    "# print(average_price)\n",
    "print(average_price.to_string(index=False))"
   ]
  },
  {
   "cell_type": "markdown",
   "id": "c1e59189",
   "metadata": {},
   "source": [
    "### **6 New Columns**"
   ]
  },
  {
   "cell_type": "markdown",
   "id": "ed105e11",
   "metadata": {},
   "source": [
    "    1. Create a new column TotalAmount = Quantity × Price."
   ]
  },
  {
   "cell_type": "code",
   "execution_count": 43,
   "id": "eefa0097",
   "metadata": {},
   "outputs": [
    {
     "name": "stdout",
     "output_type": "stream",
     "text": [
      " CustomerName  Quantity  TotalAmount\n",
      "  Alice Smith         1         1200\n",
      "  Bob Johnson         2         1600\n",
      "  Charlie Lee         3          450\n",
      "  Diana Green         1          600\n",
      "  Ethan Brown         2         2200\n",
      "   Farah Khan         1          900\n",
      "George Miller         2          600\n",
      " Hannah Davis         4          480\n",
      "  Ivan Petrov         1         1300\n",
      "  Julia Lopez         2         1700\n"
     ]
    }
   ],
   "source": [
    "df[\"TotalAmount\"] = df[\"Quantity\"] * df[\"Price\"]\n",
    "new_column = df[[\"CustomerName\", \"Quantity\", \"TotalAmount\"]]\n",
    "print(new_column.to_string(index=False))"
   ]
  },
  {
   "cell_type": "markdown",
   "id": "cad4a28f",
   "metadata": {},
   "source": [
    "    2. Find which customer spent the highest total amount."
   ]
  },
  {
   "cell_type": "code",
   "execution_count": 44,
   "id": "47ff262f",
   "metadata": {},
   "outputs": [
    {
     "name": "stdout",
     "output_type": "stream",
     "text": [
      "\n",
      "Highest Spender Name: 'Ethan Brown' Spanded: $2200\n"
     ]
    }
   ],
   "source": [
    "highest_spender = df[df[\"TotalAmount\"] == df[\"TotalAmount\"].max()][\"CustomerName\"]\n",
    "print(f\"\\nHighest Spender Name: '{highest_spender.to_string(index=False)}' Spanded: ${df[\"TotalAmount\"].max()}\")"
   ]
  },
  {
   "cell_type": "markdown",
   "id": "4d243cef",
   "metadata": {},
   "source": [
    "### **7 Date Handling**"
   ]
  },
  {
   "cell_type": "code",
   "execution_count": 45,
   "id": "6b55662d",
   "metadata": {},
   "outputs": [
    {
     "data": {
      "text/html": [
       "<div>\n",
       "<style scoped>\n",
       "    .dataframe tbody tr th:only-of-type {\n",
       "        vertical-align: middle;\n",
       "    }\n",
       "\n",
       "    .dataframe tbody tr th {\n",
       "        vertical-align: top;\n",
       "    }\n",
       "\n",
       "    .dataframe thead th {\n",
       "        text-align: right;\n",
       "    }\n",
       "</style>\n",
       "<table border=\"1\" class=\"dataframe\">\n",
       "  <thead>\n",
       "    <tr style=\"text-align: right;\">\n",
       "      <th></th>\n",
       "      <th>CustomerID</th>\n",
       "      <th>CustomerName</th>\n",
       "      <th>Country</th>\n",
       "      <th>Age</th>\n",
       "      <th>Gender</th>\n",
       "      <th>Product</th>\n",
       "      <th>Quantity</th>\n",
       "      <th>Price</th>\n",
       "      <th>PurchaseDate</th>\n",
       "      <th>TotalAmount</th>\n",
       "    </tr>\n",
       "  </thead>\n",
       "  <tbody>\n",
       "    <tr>\n",
       "      <th>0</th>\n",
       "      <td>1</td>\n",
       "      <td>Alice Smith</td>\n",
       "      <td>USA</td>\n",
       "      <td>25</td>\n",
       "      <td>F</td>\n",
       "      <td>Laptop</td>\n",
       "      <td>1</td>\n",
       "      <td>1200</td>\n",
       "      <td>2023-05-01</td>\n",
       "      <td>1200</td>\n",
       "    </tr>\n",
       "    <tr>\n",
       "      <th>1</th>\n",
       "      <td>2</td>\n",
       "      <td>Bob Johnson</td>\n",
       "      <td>Canada</td>\n",
       "      <td>30</td>\n",
       "      <td>M</td>\n",
       "      <td>Smartphone</td>\n",
       "      <td>2</td>\n",
       "      <td>800</td>\n",
       "      <td>2023-05-02</td>\n",
       "      <td>1600</td>\n",
       "    </tr>\n",
       "    <tr>\n",
       "      <th>2</th>\n",
       "      <td>3</td>\n",
       "      <td>Charlie Lee</td>\n",
       "      <td>UK</td>\n",
       "      <td>35</td>\n",
       "      <td>M</td>\n",
       "      <td>Headphones</td>\n",
       "      <td>3</td>\n",
       "      <td>150</td>\n",
       "      <td>2023-05-03</td>\n",
       "      <td>450</td>\n",
       "    </tr>\n",
       "    <tr>\n",
       "      <th>3</th>\n",
       "      <td>4</td>\n",
       "      <td>Diana Green</td>\n",
       "      <td>Sweden</td>\n",
       "      <td>28</td>\n",
       "      <td>F</td>\n",
       "      <td>Tablet</td>\n",
       "      <td>1</td>\n",
       "      <td>600</td>\n",
       "      <td>2023-05-04</td>\n",
       "      <td>600</td>\n",
       "    </tr>\n",
       "    <tr>\n",
       "      <th>4</th>\n",
       "      <td>5</td>\n",
       "      <td>Ethan Brown</td>\n",
       "      <td>Brazil</td>\n",
       "      <td>40</td>\n",
       "      <td>M</td>\n",
       "      <td>Laptop</td>\n",
       "      <td>2</td>\n",
       "      <td>1100</td>\n",
       "      <td>2023-05-05</td>\n",
       "      <td>2200</td>\n",
       "    </tr>\n",
       "  </tbody>\n",
       "</table>\n",
       "</div>"
      ],
      "text/plain": [
       "   CustomerID CustomerName Country  Age Gender     Product  Quantity  Price  \\\n",
       "0           1  Alice Smith     USA   25      F      Laptop         1   1200   \n",
       "1           2  Bob Johnson  Canada   30      M  Smartphone         2    800   \n",
       "2           3  Charlie Lee      UK   35      M  Headphones         3    150   \n",
       "3           4  Diana Green  Sweden   28      F      Tablet         1    600   \n",
       "4           5  Ethan Brown  Brazil   40      M      Laptop         2   1100   \n",
       "\n",
       "  PurchaseDate  TotalAmount  \n",
       "0   2023-05-01         1200  \n",
       "1   2023-05-02         1600  \n",
       "2   2023-05-03          450  \n",
       "3   2023-05-04          600  \n",
       "4   2023-05-05         2200  "
      ]
     },
     "execution_count": 45,
     "metadata": {},
     "output_type": "execute_result"
    }
   ],
   "source": [
    "df.head()"
   ]
  },
  {
   "cell_type": "markdown",
   "id": "caef2188",
   "metadata": {},
   "source": [
    "    1. Convert PurchaseDate into a datetime column."
   ]
  },
  {
   "cell_type": "code",
   "execution_count": 46,
   "id": "72b28672",
   "metadata": {},
   "outputs": [],
   "source": [
    "### Convert them into datetime (so pandas knows they are dates, not strings)\n",
    "# print(type(df[\"PurchaseDate\"])) # <class 'pandas.core.series.Series'>\n",
    "\n",
    "df[\"PurchaseDate\"] = pd.to_datetime(df[\"PurchaseDate\"]) # dtype: datetime64[ns]"
   ]
  },
  {
   "cell_type": "code",
   "execution_count": 47,
   "id": "7bc66de2",
   "metadata": {},
   "outputs": [
    {
     "data": {
      "text/plain": [
       "5   2023-05-06\n",
       "6   2023-05-07\n",
       "7   2023-05-08\n",
       "8   2023-05-09\n",
       "9   2023-05-10\n",
       "Name: PurchaseDate, dtype: datetime64[ns]"
      ]
     },
     "execution_count": 47,
     "metadata": {},
     "output_type": "execute_result"
    }
   ],
   "source": [
    "df[df[\"PurchaseDate\"] > \"2023-05-05\"][\"PurchaseDate\"]"
   ]
  },
  {
   "cell_type": "markdown",
   "id": "62906c62",
   "metadata": {},
   "source": [
    "    2. Find all purchases made in September 2023.\n",
    "Find purchases in May 2023 (all of them in your case)"
   ]
  },
  {
   "cell_type": "code",
   "execution_count": 48,
   "id": "04280851",
   "metadata": {},
   "outputs": [
    {
     "data": {
      "text/html": [
       "<div>\n",
       "<style scoped>\n",
       "    .dataframe tbody tr th:only-of-type {\n",
       "        vertical-align: middle;\n",
       "    }\n",
       "\n",
       "    .dataframe tbody tr th {\n",
       "        vertical-align: top;\n",
       "    }\n",
       "\n",
       "    .dataframe thead th {\n",
       "        text-align: right;\n",
       "    }\n",
       "</style>\n",
       "<table border=\"1\" class=\"dataframe\">\n",
       "  <thead>\n",
       "    <tr style=\"text-align: right;\">\n",
       "      <th></th>\n",
       "      <th>CustomerID</th>\n",
       "      <th>CustomerName</th>\n",
       "      <th>Country</th>\n",
       "      <th>Age</th>\n",
       "      <th>Gender</th>\n",
       "      <th>Product</th>\n",
       "      <th>Quantity</th>\n",
       "      <th>Price</th>\n",
       "      <th>PurchaseDate</th>\n",
       "      <th>TotalAmount</th>\n",
       "    </tr>\n",
       "  </thead>\n",
       "  <tbody>\n",
       "    <tr>\n",
       "      <th>0</th>\n",
       "      <td>1</td>\n",
       "      <td>Alice Smith</td>\n",
       "      <td>USA</td>\n",
       "      <td>25</td>\n",
       "      <td>F</td>\n",
       "      <td>Laptop</td>\n",
       "      <td>1</td>\n",
       "      <td>1200</td>\n",
       "      <td>2023-05-01</td>\n",
       "      <td>1200</td>\n",
       "    </tr>\n",
       "    <tr>\n",
       "      <th>1</th>\n",
       "      <td>2</td>\n",
       "      <td>Bob Johnson</td>\n",
       "      <td>Canada</td>\n",
       "      <td>30</td>\n",
       "      <td>M</td>\n",
       "      <td>Smartphone</td>\n",
       "      <td>2</td>\n",
       "      <td>800</td>\n",
       "      <td>2023-05-02</td>\n",
       "      <td>1600</td>\n",
       "    </tr>\n",
       "    <tr>\n",
       "      <th>2</th>\n",
       "      <td>3</td>\n",
       "      <td>Charlie Lee</td>\n",
       "      <td>UK</td>\n",
       "      <td>35</td>\n",
       "      <td>M</td>\n",
       "      <td>Headphones</td>\n",
       "      <td>3</td>\n",
       "      <td>150</td>\n",
       "      <td>2023-05-03</td>\n",
       "      <td>450</td>\n",
       "    </tr>\n",
       "    <tr>\n",
       "      <th>3</th>\n",
       "      <td>4</td>\n",
       "      <td>Diana Green</td>\n",
       "      <td>Sweden</td>\n",
       "      <td>28</td>\n",
       "      <td>F</td>\n",
       "      <td>Tablet</td>\n",
       "      <td>1</td>\n",
       "      <td>600</td>\n",
       "      <td>2023-05-04</td>\n",
       "      <td>600</td>\n",
       "    </tr>\n",
       "    <tr>\n",
       "      <th>4</th>\n",
       "      <td>5</td>\n",
       "      <td>Ethan Brown</td>\n",
       "      <td>Brazil</td>\n",
       "      <td>40</td>\n",
       "      <td>M</td>\n",
       "      <td>Laptop</td>\n",
       "      <td>2</td>\n",
       "      <td>1100</td>\n",
       "      <td>2023-05-05</td>\n",
       "      <td>2200</td>\n",
       "    </tr>\n",
       "    <tr>\n",
       "      <th>5</th>\n",
       "      <td>6</td>\n",
       "      <td>Farah Khan</td>\n",
       "      <td>India</td>\n",
       "      <td>22</td>\n",
       "      <td>F</td>\n",
       "      <td>Smartphone</td>\n",
       "      <td>1</td>\n",
       "      <td>900</td>\n",
       "      <td>2023-05-06</td>\n",
       "      <td>900</td>\n",
       "    </tr>\n",
       "    <tr>\n",
       "      <th>6</th>\n",
       "      <td>7</td>\n",
       "      <td>George Miller</td>\n",
       "      <td>USA</td>\n",
       "      <td>33</td>\n",
       "      <td>M</td>\n",
       "      <td>Smartwatch</td>\n",
       "      <td>2</td>\n",
       "      <td>300</td>\n",
       "      <td>2023-05-07</td>\n",
       "      <td>600</td>\n",
       "    </tr>\n",
       "    <tr>\n",
       "      <th>7</th>\n",
       "      <td>8</td>\n",
       "      <td>Hannah Davis</td>\n",
       "      <td>Canada</td>\n",
       "      <td>27</td>\n",
       "      <td>F</td>\n",
       "      <td>Headphones</td>\n",
       "      <td>4</td>\n",
       "      <td>120</td>\n",
       "      <td>2023-05-08</td>\n",
       "      <td>480</td>\n",
       "    </tr>\n",
       "    <tr>\n",
       "      <th>8</th>\n",
       "      <td>9</td>\n",
       "      <td>Ivan Petrov</td>\n",
       "      <td>Russia</td>\n",
       "      <td>29</td>\n",
       "      <td>M</td>\n",
       "      <td>Laptop</td>\n",
       "      <td>1</td>\n",
       "      <td>1300</td>\n",
       "      <td>2023-05-09</td>\n",
       "      <td>1300</td>\n",
       "    </tr>\n",
       "    <tr>\n",
       "      <th>9</th>\n",
       "      <td>10</td>\n",
       "      <td>Julia Lopez</td>\n",
       "      <td>Mexico</td>\n",
       "      <td>31</td>\n",
       "      <td>F</td>\n",
       "      <td>Smartphone</td>\n",
       "      <td>2</td>\n",
       "      <td>850</td>\n",
       "      <td>2023-05-10</td>\n",
       "      <td>1700</td>\n",
       "    </tr>\n",
       "  </tbody>\n",
       "</table>\n",
       "</div>"
      ],
      "text/plain": [
       "   CustomerID   CustomerName Country  Age Gender     Product  Quantity  Price  \\\n",
       "0           1    Alice Smith     USA   25      F      Laptop         1   1200   \n",
       "1           2    Bob Johnson  Canada   30      M  Smartphone         2    800   \n",
       "2           3    Charlie Lee      UK   35      M  Headphones         3    150   \n",
       "3           4    Diana Green  Sweden   28      F      Tablet         1    600   \n",
       "4           5    Ethan Brown  Brazil   40      M      Laptop         2   1100   \n",
       "5           6     Farah Khan   India   22      F  Smartphone         1    900   \n",
       "6           7  George Miller     USA   33      M  Smartwatch         2    300   \n",
       "7           8   Hannah Davis  Canada   27      F  Headphones         4    120   \n",
       "8           9    Ivan Petrov  Russia   29      M      Laptop         1   1300   \n",
       "9          10    Julia Lopez  Mexico   31      F  Smartphone         2    850   \n",
       "\n",
       "  PurchaseDate  TotalAmount  \n",
       "0   2023-05-01         1200  \n",
       "1   2023-05-02         1600  \n",
       "2   2023-05-03          450  \n",
       "3   2023-05-04          600  \n",
       "4   2023-05-05         2200  \n",
       "5   2023-05-06          900  \n",
       "6   2023-05-07          600  \n",
       "7   2023-05-08          480  \n",
       "8   2023-05-09         1300  \n",
       "9   2023-05-10         1700  "
      ]
     },
     "execution_count": 48,
     "metadata": {},
     "output_type": "execute_result"
    }
   ],
   "source": [
    "df[df[\"PurchaseDate\"].dt.month == 5]"
   ]
  },
  {
   "cell_type": "markdown",
   "id": "38c4c062",
   "metadata": {},
   "source": [
    "### **Creating New CSV File**"
   ]
  },
  {
   "cell_type": "code",
   "execution_count": 51,
   "id": "8387742a",
   "metadata": {},
   "outputs": [
    {
     "data": {
      "text/html": [
       "<div>\n",
       "<style scoped>\n",
       "    .dataframe tbody tr th:only-of-type {\n",
       "        vertical-align: middle;\n",
       "    }\n",
       "\n",
       "    .dataframe tbody tr th {\n",
       "        vertical-align: top;\n",
       "    }\n",
       "\n",
       "    .dataframe thead th {\n",
       "        text-align: right;\n",
       "    }\n",
       "</style>\n",
       "<table border=\"1\" class=\"dataframe\">\n",
       "  <thead>\n",
       "    <tr style=\"text-align: right;\">\n",
       "      <th></th>\n",
       "      <th>CustomerID</th>\n",
       "      <th>CustomerName</th>\n",
       "      <th>Country</th>\n",
       "      <th>Age</th>\n",
       "      <th>Gender</th>\n",
       "      <th>Product</th>\n",
       "      <th>Quantity</th>\n",
       "      <th>Price</th>\n",
       "      <th>PurchaseDate</th>\n",
       "      <th>TotalAmount</th>\n",
       "    </tr>\n",
       "  </thead>\n",
       "  <tbody>\n",
       "    <tr>\n",
       "      <th>0</th>\n",
       "      <td>1</td>\n",
       "      <td>Alice Smith</td>\n",
       "      <td>USA</td>\n",
       "      <td>25</td>\n",
       "      <td>F</td>\n",
       "      <td>Laptop</td>\n",
       "      <td>1</td>\n",
       "      <td>1200</td>\n",
       "      <td>2023-05-01</td>\n",
       "      <td>1200</td>\n",
       "    </tr>\n",
       "    <tr>\n",
       "      <th>1</th>\n",
       "      <td>2</td>\n",
       "      <td>Bob Johnson</td>\n",
       "      <td>Canada</td>\n",
       "      <td>30</td>\n",
       "      <td>M</td>\n",
       "      <td>Smartphone</td>\n",
       "      <td>2</td>\n",
       "      <td>800</td>\n",
       "      <td>2023-05-02</td>\n",
       "      <td>1600</td>\n",
       "    </tr>\n",
       "    <tr>\n",
       "      <th>2</th>\n",
       "      <td>3</td>\n",
       "      <td>Charlie Lee</td>\n",
       "      <td>UK</td>\n",
       "      <td>35</td>\n",
       "      <td>M</td>\n",
       "      <td>Headphones</td>\n",
       "      <td>3</td>\n",
       "      <td>150</td>\n",
       "      <td>2023-05-03</td>\n",
       "      <td>450</td>\n",
       "    </tr>\n",
       "    <tr>\n",
       "      <th>3</th>\n",
       "      <td>4</td>\n",
       "      <td>Diana Green</td>\n",
       "      <td>Sweden</td>\n",
       "      <td>28</td>\n",
       "      <td>F</td>\n",
       "      <td>Tablet</td>\n",
       "      <td>1</td>\n",
       "      <td>600</td>\n",
       "      <td>2023-05-04</td>\n",
       "      <td>600</td>\n",
       "    </tr>\n",
       "    <tr>\n",
       "      <th>4</th>\n",
       "      <td>5</td>\n",
       "      <td>Ethan Brown</td>\n",
       "      <td>Brazil</td>\n",
       "      <td>40</td>\n",
       "      <td>M</td>\n",
       "      <td>Laptop</td>\n",
       "      <td>2</td>\n",
       "      <td>1100</td>\n",
       "      <td>2023-05-05</td>\n",
       "      <td>2200</td>\n",
       "    </tr>\n",
       "  </tbody>\n",
       "</table>\n",
       "</div>"
      ],
      "text/plain": [
       "   CustomerID CustomerName Country  Age Gender     Product  Quantity  Price  \\\n",
       "0           1  Alice Smith     USA   25      F      Laptop         1   1200   \n",
       "1           2  Bob Johnson  Canada   30      M  Smartphone         2    800   \n",
       "2           3  Charlie Lee      UK   35      M  Headphones         3    150   \n",
       "3           4  Diana Green  Sweden   28      F      Tablet         1    600   \n",
       "4           5  Ethan Brown  Brazil   40      M      Laptop         2   1100   \n",
       "\n",
       "  PurchaseDate  TotalAmount  \n",
       "0   2023-05-01         1200  \n",
       "1   2023-05-02         1600  \n",
       "2   2023-05-03          450  \n",
       "3   2023-05-04          600  \n",
       "4   2023-05-05         2200  "
      ]
     },
     "execution_count": 51,
     "metadata": {},
     "output_type": "execute_result"
    }
   ],
   "source": [
    "df.head()"
   ]
  },
  {
   "cell_type": "code",
   "execution_count": 57,
   "id": "da679c29",
   "metadata": {},
   "outputs": [],
   "source": [
    "df.to_csv(\"customer.csv\", index=False)"
   ]
  },
  {
   "cell_type": "markdown",
   "id": "b59af522",
   "metadata": {},
   "source": [
    "    ================== The END =================="
   ]
  }
 ],
 "metadata": {
  "kernelspec": {
   "display_name": "Python 3",
   "language": "python",
   "name": "python3"
  },
  "language_info": {
   "codemirror_mode": {
    "name": "ipython",
    "version": 3
   },
   "file_extension": ".py",
   "mimetype": "text/x-python",
   "name": "python",
   "nbconvert_exporter": "python",
   "pygments_lexer": "ipython3",
   "version": "3.13.6"
  }
 },
 "nbformat": 4,
 "nbformat_minor": 5
}
